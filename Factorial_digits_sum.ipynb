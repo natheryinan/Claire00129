{
 "cells": [
  {
   "cell_type": "code",
   "execution_count": 7,
   "metadata": {},
   "outputs": [
    {
     "data": {
      "text/plain": [
       "27"
      ]
     },
     "execution_count": 7,
     "metadata": {},
     "output_type": "execute_result"
    }
   ],
   "source": [
    "def multiply(a, x): \n",
    "    carry = 0\n",
    "    size = len(a) \n",
    "    for i in range(size): \n",
    "          \n",
    "        # Calculate res + prev carry \n",
    "        res = carry + a[i] * x \n",
    "  \n",
    "        # updation at ith position \n",
    "        a[i] = res % 10\n",
    "        carry = res // 10\n",
    "  \n",
    "    while (carry != 0): \n",
    "        a.append(carry % 10) \n",
    "        carry //= 10\n",
    "\n",
    "def findSumOfDigits( n): \n",
    "    v = []     # create a vector of type int \n",
    "    v.append(1) # adds 1 to the end \n",
    "  \n",
    "    # One by one multiply i to current  \n",
    "    # vector and update the vector. \n",
    "    for i in range(1, n + 1): \n",
    "        multiply(v, i) \n",
    "  \n",
    "    # Find sum of digits in vector v[] \n",
    "    sum = 0\n",
    "    size = len(v) \n",
    "    for i in range(size): \n",
    "        sum += v[i] \n",
    "    return sum\n",
    "\n",
    "\n",
    "  \n",
    "findSumOfDigits(10)"
   ]
  }
 ],
 "metadata": {
  "kernelspec": {
   "display_name": "Python 3",
   "language": "python",
   "name": "python3"
  },
  "language_info": {
   "codemirror_mode": {
    "name": "ipython",
    "version": 3
   },
   "file_extension": ".py",
   "mimetype": "text/x-python",
   "name": "python",
   "nbconvert_exporter": "python",
   "pygments_lexer": "ipython3",
   "version": "3.7.3"
  }
 },
 "nbformat": 4,
 "nbformat_minor": 2
}
