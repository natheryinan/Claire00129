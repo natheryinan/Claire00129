{
 "cells": [
  {
   "cell_type": "markdown",
   "metadata": {},
   "source": [
    "1.Consider the advantages and disadvantages of treating the Rank variable as categorical. Discuss your arguments with your mentor.\n",
    "2.What are the types of the following variables?\n",
    "Age\n",
    "Salary\n",
    "Revenue\n",
    "Customer type\n",
    "Stock price"
   ]
  },
  {
   "cell_type": "markdown",
   "metadata": {},
   "source": [
    "1. If the cardinality (the # of categories) of the categorical features is low (relative to the amount of data) treating it as categorical variable will work best. You can use it as input into any model.\n",
    "\n",
    "But if the cardinality is large, treating it as categorical variable not be feasible, and the model may not be able to efficiently learn.\n",
    "\n",
    "An alternative is to treat rank as numeric, and hope that your model can learn something useful from this, at the risk of overfitting."
   ]
  },
  {
   "cell_type": "markdown",
   "metadata": {},
   "source": [
    "2. age can be treated as categorical variable, groupby 1-18 as 1, 18-30 as 2, 30-40 as 3, 40-50 as 4, 50-60 as 5, 60-70 as 6,70-80 as 7,80-100 as 8\n",
    "   salary can be treate as continious variable and also categorical variable\n",
    "    revenue can be treated as continous variable\n",
    "    customer can be treated as categorical variable, groupby into different groups\n",
    "    stock can be treated as categorical variable\n",
    "    price mostly treated as continous variable, but sometimes it can be groupby into categorical variable"
   ]
  },
  {
   "cell_type": "code",
   "execution_count": null,
   "metadata": {},
   "outputs": [],
   "source": []
  }
 ],
 "metadata": {
  "kernelspec": {
   "display_name": "Python 3",
   "language": "python",
   "name": "python3"
  },
  "language_info": {
   "codemirror_mode": {
    "name": "ipython",
    "version": 3
   },
   "file_extension": ".py",
   "mimetype": "text/x-python",
   "name": "python",
   "nbconvert_exporter": "python",
   "pygments_lexer": "ipython3",
   "version": "3.7.3"
  }
 },
 "nbformat": 4,
 "nbformat_minor": 2
}
