{
 "cells": [
  {
   "cell_type": "code",
   "execution_count": 1,
   "metadata": {},
   "outputs": [],
   "source": [
    "def sort(array=[14,9,8,0,4,1,15]):\n",
    "    less=[]\n",
    "    equal=[]\n",
    "    greater=[]\n",
    "    \n",
    "    if len(array)>1:\n",
    "        pivot=array[0]\n",
    "        for x in array:\n",
    "            if x <pivot:\n",
    "                less.append(x)\n",
    "            elif x==pivot:\n",
    "                equal.append(x)\n",
    "            elif x>pivot:\n",
    "                greater.append(x)\n",
    "        return sort(less) + equal + sort(greater)\n",
    "    else:\n",
    "        return array"
   ]
  },
  {
   "cell_type": "code",
   "execution_count": 3,
   "metadata": {},
   "outputs": [
    {
     "data": {
      "text/plain": [
       "[0, 1, 4, 8, 9, 14, 15]"
      ]
     },
     "execution_count": 3,
     "metadata": {},
     "output_type": "execute_result"
    }
   ],
   "source": [
    "sort(array=[14,9,8,0,4,1,15])"
   ]
  }
 ],
 "metadata": {
  "kernelspec": {
   "display_name": "Python 3",
   "language": "python",
   "name": "python3"
  },
  "language_info": {
   "codemirror_mode": {
    "name": "ipython",
    "version": 3
   },
   "file_extension": ".py",
   "mimetype": "text/x-python",
   "name": "python",
   "nbconvert_exporter": "python",
   "pygments_lexer": "ipython3",
   "version": "3.7.3"
  }
 },
 "nbformat": 4,
 "nbformat_minor": 2
}
