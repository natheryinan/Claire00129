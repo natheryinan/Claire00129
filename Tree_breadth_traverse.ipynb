{
 "cells": [
  {
   "cell_type": "code",
   "execution_count": 17,
   "metadata": {},
   "outputs": [
    {
     "name": "stdout",
     "output_type": "stream",
     "text": [
      "level order traversal of binary tree\n",
      "1\n",
      "2\n",
      "4\n",
      "5\n",
      "8\n"
     ]
    }
   ],
   "source": [
    "class Node:\n",
    "    def __init__(self, key):\n",
    "        self.data=key\n",
    "        self.left=None\n",
    "        self.right=None\n",
    "def printLevelOrder(root):\n",
    "    h=height(root)\n",
    "    for i in range(1,h+1):\n",
    "        printnodesLevel(root,i)\n",
    "        \n",
    "def printnodesLevel(root,level):\n",
    "    if root is None:\n",
    "        return\n",
    "    if level == 1:\n",
    "        print(root.data)\n",
    "    elif level >1:\n",
    "        printnodesLevel(root.left,level-1)\n",
    "        printnodesLevel(root.right,level-1)\n",
    "def height(node):\n",
    "    if node is None:\n",
    "        return 0\n",
    "    else:\n",
    "        leftheight=height(node.left)\n",
    "        rightheight=height(node.right)\n",
    "        if leftheight>rightheight:\n",
    "            return leftheight +1\n",
    "        else:\n",
    "            return rightheight+1\n",
    "\n",
    "root=Node(1)\n",
    "root.left=Node(2)\n",
    "root.right=Node(4)\n",
    "root.left.left=Node(5)\n",
    "root.right.right=Node(8)\n",
    "\n",
    "print(\"level order traversal of binary tree\")\n",
    "printLevelOrder(root)"
   ]
  },
  {
   "cell_type": "code",
   "execution_count": 8,
   "metadata": {},
   "outputs": [],
   "source": [
    "\n",
    "            "
   ]
  }
 ],
 "metadata": {
  "kernelspec": {
   "display_name": "Python 3",
   "language": "python",
   "name": "python3"
  },
  "language_info": {
   "codemirror_mode": {
    "name": "ipython",
    "version": 3
   },
   "file_extension": ".py",
   "mimetype": "text/x-python",
   "name": "python",
   "nbconvert_exporter": "python",
   "pygments_lexer": "ipython3",
   "version": "3.7.3"
  }
 },
 "nbformat": 4,
 "nbformat_minor": 2
}
