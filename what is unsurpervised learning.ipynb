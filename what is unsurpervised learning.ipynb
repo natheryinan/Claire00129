{
 "cells": [
  {
   "cell_type": "markdown",
   "metadata": {},
   "source": [
    "1.Assume that we have a dataset of images that includes the images of red wines, white wines, red roses and white roses. If you were to cluster these observations, how would you do that? Would you like to cluster them with respect to their colors or anything else? Discuss the pros and cons of different clustering options."
   ]
  },
  {
   "cell_type": "markdown",
   "metadata": {},
   "source": [
    "answer: red wine and red roses have very similar color, so it would be the shape to tell difference between of red roses and red wine. for White wine and white roses, color is different, white wine is mostly translucent light yellow, and white roses are mostly white color, and also white wine and white roses have different shapes, so color and shape can be used to tell differences in images."
   ]
  },
  {
   "cell_type": "markdown",
   "metadata": {},
   "source": [
    "2. A shadow on the wall is a two-dimensional representation of a real world three-dimensional object. When you see a rabbit and a cat, you can easily identify them. But, are they also easily identifiable by just looking at their shadows on a wall? What information is retained and lost when representing 3-d objects in 2-dimensional space?"
   ]
  },
  {
   "cell_type": "markdown",
   "metadata": {},
   "source": [
    "asnwer: when 3D objects projected on 2D surface, there are a lot of information lost because of that. First, actual size of cat and rabbits won't be fully projected into 2D durface, although it can show the size of the shadow, like how shape geometry,animal who body stats, fur etc are not showing in 2D projection."
   ]
  },
  {
   "cell_type": "code",
   "execution_count": null,
   "metadata": {},
   "outputs": [],
   "source": []
  }
 ],
 "metadata": {
  "kernelspec": {
   "display_name": "Python 3",
   "language": "python",
   "name": "python3"
  },
  "language_info": {
   "codemirror_mode": {
    "name": "ipython",
    "version": 3
   },
   "file_extension": ".py",
   "mimetype": "text/x-python",
   "name": "python",
   "nbconvert_exporter": "python",
   "pygments_lexer": "ipython3",
   "version": "3.7.3"
  }
 },
 "nbformat": 4,
 "nbformat_minor": 2
}
