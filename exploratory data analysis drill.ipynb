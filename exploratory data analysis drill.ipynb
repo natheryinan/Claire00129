{
 "cells": [
  {
   "cell_type": "markdown",
   "metadata": {},
   "source": [
    "1. EDA is the process of exploring data to discover insights, identify patterns, establish relationships and trends, and test assumptions.\n",
    "2. a.which features in this dataset are useful? what how much percentage of each score(1,2,3,4,5)takes in the whole sample popuation? which feature are related to improve this company's service?\n",
    "   b. plot the whole dataset using correlation matrix visualization to get a general idea of how each feature relates to each other.\n",
    "   c. calculation PCA scores of all the features and pick top 10 features of the dataset, and check the score, and plot the those useful features with output column to find any pattern"
   ]
  },
  {
   "cell_type": "code",
   "execution_count": null,
   "metadata": {},
   "outputs": [],
   "source": []
  }
 ],
 "metadata": {
  "kernelspec": {
   "display_name": "Python 3",
   "language": "python",
   "name": "python3"
  },
  "language_info": {
   "codemirror_mode": {
    "name": "ipython",
    "version": 3
   },
   "file_extension": ".py",
   "mimetype": "text/x-python",
   "name": "python",
   "nbconvert_exporter": "python",
   "pygments_lexer": "ipython3",
   "version": "3.7.3"
  }
 },
 "nbformat": 4,
 "nbformat_minor": 2
}
