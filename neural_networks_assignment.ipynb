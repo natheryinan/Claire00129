{
  "nbformat": 4,
  "nbformat_minor": 0,
  "metadata": {
    "kernelspec": {
      "display_name": "Python 3",
      "language": "python",
      "name": "python3"
    },
    "language_info": {
      "codemirror_mode": {
        "name": "ipython",
        "version": 3
      },
      "file_extension": ".py",
      "mimetype": "text/x-python",
      "name": "python",
      "nbconvert_exporter": "python",
      "pygments_lexer": "ipython3",
      "version": "3.7.3"
    },
    "colab": {
      "name": "neural_networks_assignment.ipynb",
      "provenance": [],
      "collapsed_sections": []
    }
  },
  "cells": [
    {
      "cell_type": "code",
      "metadata": {
        "id": "hN1z-LdOYOvM",
        "colab_type": "code",
        "colab": {}
      },
      "source": [
        "#part 1"
      ],
      "execution_count": 0,
      "outputs": []
    },
    {
      "cell_type": "code",
      "metadata": {
        "id": "oBMVJ_IRYPul",
        "colab_type": "code",
        "outputId": "71218e74-f57d-4547-a88f-cd6af6ac3ce8",
        "colab": {
          "base_uri": "https://localhost:8080/",
          "height": 121
        }
      },
      "source": [
        "from google.colab import drive\n",
        "drive.mount('/content/drive')"
      ],
      "execution_count": 2,
      "outputs": [
        {
          "output_type": "stream",
          "text": [
            "Go to this URL in a browser: https://accounts.google.com/o/oauth2/auth?client_id=947318989803-6bn6qk8qdgf4n4g3pfee6491hc0brc4i.apps.googleusercontent.com&redirect_uri=urn%3aietf%3awg%3aoauth%3a2.0%3aoob&response_type=code&scope=email%20https%3a%2f%2fwww.googleapis.com%2fauth%2fdocs.test%20https%3a%2f%2fwww.googleapis.com%2fauth%2fdrive%20https%3a%2f%2fwww.googleapis.com%2fauth%2fdrive.photos.readonly%20https%3a%2f%2fwww.googleapis.com%2fauth%2fpeopleapi.readonly\n",
            "\n",
            "Enter your authorization code:\n",
            "··········\n",
            "Mounted at /content/drive\n"
          ],
          "name": "stdout"
        }
      ]
    },
    {
      "cell_type": "code",
      "metadata": {
        "id": "dCwY0XVeFa-O",
        "colab_type": "code",
        "outputId": "9e79ddbf-afdf-4435-d2af-af3abb697bb8",
        "colab": {
          "base_uri": "https://localhost:8080/",
          "height": 34
        }
      },
      "source": [
        "from PIL import Image\n",
        "from matplotlib import image\n",
        "import glob\n",
        "import numpy as np\n",
        "image_list = []\n",
        "for filename in glob.glob('drive/My Drive/for Thinkful/xray_data/train_new/NORMAL/*.jpeg'): \n",
        "    im=Image.open(filename)\n",
        "    img_resized = im.resize((50,50))\n",
        "    image_list.append(np.asarray(img_resized))\n",
        "image_list[2].shape\n",
        "    "
      ],
      "execution_count": 3,
      "outputs": [
        {
          "output_type": "execute_result",
          "data": {
            "text/plain": [
              "(50, 50)"
            ]
          },
          "metadata": {
            "tags": []
          },
          "execution_count": 3
        }
      ]
    },
    {
      "cell_type": "code",
      "metadata": {
        "id": "gogkHzWYOkH2",
        "colab_type": "code",
        "outputId": "63a9abb3-3612-466a-8a87-7c6bb94d5918",
        "colab": {
          "base_uri": "https://localhost:8080/",
          "height": 134
        }
      },
      "source": [
        "image_list[2]"
      ],
      "execution_count": 4,
      "outputs": [
        {
          "output_type": "execute_result",
          "data": {
            "text/plain": [
              "array([[ 20,  48,  71, ..., 138,  96,  94],\n",
              "       [ 21,  16,  66, ..., 168, 100,  86],\n",
              "       [ 25,  14,  61, ..., 106,  95,  85],\n",
              "       ...,\n",
              "       [ 29,  29,  24, ...,  23,  22,  25],\n",
              "       [ 28,  25,  22, ...,  19,  19,  22],\n",
              "       [ 29,  24,  27, ...,  61,  65,  64]], dtype=uint8)"
            ]
          },
          "metadata": {
            "tags": []
          },
          "execution_count": 4
        }
      ]
    },
    {
      "cell_type": "code",
      "metadata": {
        "id": "VJ8fjlOAn01T",
        "colab_type": "code",
        "outputId": "d4e82a7b-7709-4785-c50f-a271dc8f7372",
        "colab": {
          "base_uri": "https://localhost:8080/",
          "height": 1000
        }
      },
      "source": [
        "image_list"
      ],
      "execution_count": 5,
      "outputs": [
        {
          "output_type": "execute_result",
          "data": {
            "text/plain": [
              "[array([[ 58,  90,  89, ..., 112,  92,  62],\n",
              "        [ 50,  83,  88, ..., 109,  95,  58],\n",
              "        [ 52,  78,  93, ..., 101,  93,  45],\n",
              "        ...,\n",
              "        [  0,   0,   0, ...,  45,   3,   0],\n",
              "        [  0,   0,   0, ...,  60,  11,   0],\n",
              "        [  0,   0,   0, ...,  66,  14,   0]], dtype=uint8),\n",
              " array([[ 0, 14, 29, ..., 32, 31,  8],\n",
              "        [ 0,  3, 26, ..., 26, 19,  3],\n",
              "        [ 0,  0, 25, ..., 27, 14,  2],\n",
              "        ...,\n",
              "        [ 0,  0,  0, ...,  0,  0,  0],\n",
              "        [ 0,  0,  0, ...,  0,  0,  0],\n",
              "        [ 0,  0,  0, ...,  0,  0,  0]], dtype=uint8),\n",
              " array([[ 20,  48,  71, ..., 138,  96,  94],\n",
              "        [ 21,  16,  66, ..., 168, 100,  86],\n",
              "        [ 25,  14,  61, ..., 106,  95,  85],\n",
              "        ...,\n",
              "        [ 29,  29,  24, ...,  23,  22,  25],\n",
              "        [ 28,  25,  22, ...,  19,  19,  22],\n",
              "        [ 29,  24,  27, ...,  61,  65,  64]], dtype=uint8),\n",
              " array([[78, 69, 29, ..., 43, 42, 31],\n",
              "        [82, 98, 76, ..., 46, 34, 22],\n",
              "        [73, 78, 98, ..., 42, 38, 13],\n",
              "        ...,\n",
              "        [ 0,  0,  0, ...,  0,  0,  0],\n",
              "        [ 0,  0,  0, ...,  0,  0,  0],\n",
              "        [ 0,  0,  0, ...,  0,  0,  0]], dtype=uint8),\n",
              " array([[47, 57, 79, ..., 18, 20, 21],\n",
              "        [40, 56, 74, ..., 17, 21, 19],\n",
              "        [36, 50, 68, ..., 19, 20, 19],\n",
              "        ...,\n",
              "        [16, 14, 14, ...,  0, 10, 14],\n",
              "        [13, 16, 12, ...,  1, 12, 11],\n",
              "        [18, 13, 11, ...,  1, 10, 12]], dtype=uint8),\n",
              " array([[ 0, 29, 48, ..., 60, 44,  0],\n",
              "        [ 0, 19, 45, ..., 49, 34,  0],\n",
              "        [ 0,  0, 36, ..., 46, 30,  0],\n",
              "        ...,\n",
              "        [ 0,  0,  0, ...,  0,  0,  0],\n",
              "        [ 0,  0,  0, ...,  0,  0,  0],\n",
              "        [ 0,  0,  0, ...,  0,  0,  0]], dtype=uint8),\n",
              " array([[28, 43, 43, ..., 66, 37, 27],\n",
              "        [27, 45, 45, ..., 43, 36, 24],\n",
              "        [24, 41, 53, ..., 39, 34, 23],\n",
              "        ...,\n",
              "        [ 0,  0,  0, ...,  0,  0,  0],\n",
              "        [ 0,  0,  0, ...,  0,  0,  0],\n",
              "        [ 0,  0,  0, ...,  0,  0,  0]], dtype=uint8),\n",
              " array([[12, 47, 66, ..., 45, 23,  3],\n",
              "        [ 0, 35, 59, ..., 33, 18,  0],\n",
              "        [ 0, 28, 56, ..., 28, 10,  0],\n",
              "        ...,\n",
              "        [ 0,  0,  0, ...,  0,  0,  0],\n",
              "        [ 0,  0,  0, ...,  0,  0,  0],\n",
              "        [ 0,  0,  0, ...,  0,  0,  0]], dtype=uint8),\n",
              " array([[ 9,  3, 15, ..., 18, 72, 76],\n",
              "        [39, 21, 30, ..., 36, 41, 78],\n",
              "        [60, 32, 39, ..., 55, 80, 77],\n",
              "        ...,\n",
              "        [ 0,  0,  0, ..., 24,  0,  0],\n",
              "        [ 0,  0,  0, ..., 29,  0,  0],\n",
              "        [ 0,  0,  0, ..., 33,  0,  0]], dtype=uint8),\n",
              " array([[ 56, 129,  85, ...,   0,   0,   0],\n",
              "        [ 55,  53,  88, ...,   0,   0,   0],\n",
              "        [ 47,  51,  86, ...,   0,   0,   0],\n",
              "        ...,\n",
              "        [  0,   0,   0, ...,   0,   0,   0],\n",
              "        [  0,   0,   0, ...,   0,   0,   0],\n",
              "        [  0,   0,   0, ...,   0,   0,   0]], dtype=uint8)]"
            ]
          },
          "metadata": {
            "tags": []
          },
          "execution_count": 5
        }
      ]
    },
    {
      "cell_type": "code",
      "metadata": {
        "id": "H4IhLGFpPyAe",
        "colab_type": "code",
        "colab": {}
      },
      "source": [
        "image_X=np.asarray(image_list)"
      ],
      "execution_count": 0,
      "outputs": []
    },
    {
      "cell_type": "code",
      "metadata": {
        "id": "kkwQMzvGQYEL",
        "colab_type": "code",
        "outputId": "64245886-653c-46a2-a3cc-733697be98f4",
        "colab": {
          "base_uri": "https://localhost:8080/",
          "height": 34
        }
      },
      "source": [
        "image_X.shape"
      ],
      "execution_count": 7,
      "outputs": [
        {
          "output_type": "execute_result",
          "data": {
            "text/plain": [
              "(10, 50, 50)"
            ]
          },
          "metadata": {
            "tags": []
          },
          "execution_count": 7
        }
      ]
    },
    {
      "cell_type": "code",
      "metadata": {
        "id": "QVLV-DXBQdHl",
        "colab_type": "code",
        "colab": {}
      },
      "source": [
        "nsample,nx,ny=image_X.shape\n"
      ],
      "execution_count": 0,
      "outputs": []
    },
    {
      "cell_type": "code",
      "metadata": {
        "id": "AkZV9WVXQikT",
        "colab_type": "code",
        "colab": {}
      },
      "source": [
        "image_X=image_X.reshape((nsample,nx*ny))"
      ],
      "execution_count": 0,
      "outputs": []
    },
    {
      "cell_type": "code",
      "metadata": {
        "id": "iz5uf86dQwVs",
        "colab_type": "code",
        "outputId": "34bd4199-b22c-4d62-e19a-7e347b4a5d98",
        "colab": {
          "base_uri": "https://localhost:8080/",
          "height": 34
        }
      },
      "source": [
        "image_X.shape"
      ],
      "execution_count": 10,
      "outputs": [
        {
          "output_type": "execute_result",
          "data": {
            "text/plain": [
              "(10, 2500)"
            ]
          },
          "metadata": {
            "tags": []
          },
          "execution_count": 10
        }
      ]
    },
    {
      "cell_type": "code",
      "metadata": {
        "id": "AuApjeteRFj5",
        "colab_type": "code",
        "colab": {}
      },
      "source": [
        "y=np.zeros((10,), dtype=int)"
      ],
      "execution_count": 0,
      "outputs": []
    },
    {
      "cell_type": "code",
      "metadata": {
        "id": "9DmrRMMbpDKe",
        "colab_type": "code",
        "outputId": "b0d1ea03-6125-478a-ff7f-fe0007d4212d",
        "colab": {
          "base_uri": "https://localhost:8080/",
          "height": 34
        }
      },
      "source": [
        "y"
      ],
      "execution_count": 12,
      "outputs": [
        {
          "output_type": "execute_result",
          "data": {
            "text/plain": [
              "array([0, 0, 0, 0, 0, 0, 0, 0, 0, 0])"
            ]
          },
          "metadata": {
            "tags": []
          },
          "execution_count": 12
        }
      ]
    },
    {
      "cell_type": "code",
      "metadata": {
        "id": "gf4krUG1RZi1",
        "colab_type": "code",
        "outputId": "c5cd3720-62a0-4f78-9a67-e3fdb15c927e",
        "colab": {
          "base_uri": "https://localhost:8080/",
          "height": 34
        }
      },
      "source": [
        "type(y)"
      ],
      "execution_count": 13,
      "outputs": [
        {
          "output_type": "execute_result",
          "data": {
            "text/plain": [
              "numpy.ndarray"
            ]
          },
          "metadata": {
            "tags": []
          },
          "execution_count": 13
        }
      ]
    },
    {
      "cell_type": "code",
      "metadata": {
        "id": "IddZBN2zNbFo",
        "colab_type": "code",
        "colab": {}
      },
      "source": [
        ""
      ],
      "execution_count": 0,
      "outputs": []
    },
    {
      "cell_type": "code",
      "metadata": {
        "id": "r9rp1tIVizCy",
        "colab_type": "code",
        "outputId": "7229e1d6-98bf-4b14-fa72-9a768d9a4172",
        "colab": {
          "base_uri": "https://localhost:8080/",
          "height": 202
        }
      },
      "source": [
        "# load pneumonia data \n",
        "from PIL import Image\n",
        "from matplotlib import image\n",
        "import glob\n",
        "import numpy as np\n",
        "image_pneumonia_list = []\n",
        "for filename in glob.glob('drive/My Drive/for Thinkful/xray_data/train_new/PNEUMONIA/*.jpeg'): \n",
        "    print(filename)\n",
        "    im=Image.open(filename)\n",
        "    img_resized = im.resize((50,50))\n",
        "    image_pneumonia_list.append(np.asarray(img_resized))\n",
        "image_pneumonia_list[2].shape"
      ],
      "execution_count": 14,
      "outputs": [
        {
          "output_type": "stream",
          "text": [
            "drive/My Drive/for Thinkful/xray_data/train_new/PNEUMONIA/person10_bacteria_43.jpeg\n",
            "drive/My Drive/for Thinkful/xray_data/train_new/PNEUMONIA/person12_bacteria_48.jpeg\n",
            "drive/My Drive/for Thinkful/xray_data/train_new/PNEUMONIA/person16_bacteria_55.jpeg\n",
            "drive/My Drive/for Thinkful/xray_data/train_new/PNEUMONIA/person20_bacteria_67.jpeg\n",
            "drive/My Drive/for Thinkful/xray_data/train_new/PNEUMONIA/person1_bacteria_2.jpeg\n",
            "drive/My Drive/for Thinkful/xray_data/train_new/PNEUMONIA/person4_bacteria_14.jpeg\n",
            "drive/My Drive/for Thinkful/xray_data/train_new/PNEUMONIA/person9_bacteria_38.jpeg\n",
            "drive/My Drive/for Thinkful/xray_data/train_new/PNEUMONIA/person9_bacteria_39.jpeg\n",
            "drive/My Drive/for Thinkful/xray_data/train_new/PNEUMONIA/person9_bacteria_40.jpeg\n",
            "drive/My Drive/for Thinkful/xray_data/train_new/PNEUMONIA/person9_bacteria_41.jpeg\n"
          ],
          "name": "stdout"
        },
        {
          "output_type": "execute_result",
          "data": {
            "text/plain": [
              "(50, 50)"
            ]
          },
          "metadata": {
            "tags": []
          },
          "execution_count": 14
        }
      ]
    },
    {
      "cell_type": "code",
      "metadata": {
        "id": "jSxhKwt8r_eB",
        "colab_type": "code",
        "outputId": "961b19c6-d975-4122-aa01-ed09a16df8e4",
        "colab": {
          "base_uri": "https://localhost:8080/",
          "height": 34
        }
      },
      "source": [
        "image_pneumonia_list[3].shape"
      ],
      "execution_count": 15,
      "outputs": [
        {
          "output_type": "execute_result",
          "data": {
            "text/plain": [
              "(50, 50)"
            ]
          },
          "metadata": {
            "tags": []
          },
          "execution_count": 15
        }
      ]
    },
    {
      "cell_type": "code",
      "metadata": {
        "id": "f1SyDvNTqy70",
        "colab_type": "code",
        "outputId": "9a76275a-80fb-4698-b8b5-ff90750b1f06",
        "colab": {
          "base_uri": "https://localhost:8080/",
          "height": 1000
        }
      },
      "source": [
        "image_pneumonia_list"
      ],
      "execution_count": 16,
      "outputs": [
        {
          "output_type": "execute_result",
          "data": {
            "text/plain": [
              "[array([[ 0,  0, 13, ..., 30,  6, 10],\n",
              "        [ 6, 14, 19, ...,  9, 13,  8],\n",
              "        [15, 25, 24, ..., 15,  5,  5],\n",
              "        ...,\n",
              "        [ 0,  0,  0, ...,  0,  0,  0],\n",
              "        [ 0,  0,  7, ...,  0,  0,  0],\n",
              "        [ 0,  0, 12, ...,  0,  0,  0]], dtype=uint8),\n",
              " array([[  0,   0,  13, ...,   0,   0, 131],\n",
              "        [  0,  14,  39, ...,   9,   0, 124],\n",
              "        [  2,  34,  66, ...,  41,  22, 129],\n",
              "        ...,\n",
              "        [  0,   0,  42, ...,   0,   0,  28],\n",
              "        [  0,   0,  26, ...,   0,   0,  28],\n",
              "        [  0,   0,  28, ...,   0,   0,  30]], dtype=uint8),\n",
              " array([[  0,  48,  72, ..., 103,  76,  33],\n",
              "        [  0,  34,  64, ...,  94,  67,  33],\n",
              "        [  0,  35,  67, ...,  83,  44,  41],\n",
              "        ...,\n",
              "        [  0,   0,   0, ...,   0,   0,   0],\n",
              "        [  0,   0,   0, ...,   0,   0,   0],\n",
              "        [  0,   0,   0, ...,   0,   0,   0]], dtype=uint8),\n",
              " array([[  5,  27,  32, ..., 189, 192, 200],\n",
              "        [167,  26,  36, ..., 197, 192, 207],\n",
              "        [187,  33,  38, ..., 182, 202, 211],\n",
              "        ...,\n",
              "        [ 23,  23,  21, ...,  15,  15,  17],\n",
              "        [ 24,  23,  23, ...,  17,  24,  16],\n",
              "        [ 25,  22,  22, ...,  26,  17,  16]], dtype=uint8),\n",
              " array([[15, 39, 39, ..., 66, 62, 51],\n",
              "        [35, 40, 55, ..., 70, 66, 64],\n",
              "        [36, 56, 72, ..., 76, 74, 69],\n",
              "        ...,\n",
              "        [22, 18,  6, ..., 59,  7, 15],\n",
              "        [22, 17,  2, ..., 62,  5, 15],\n",
              "        [24, 17,  5, ..., 65,  6, 14]], dtype=uint8),\n",
              " array([[ 82,  85,  93, ...,  94,  92, 102],\n",
              "        [ 83,  91,  92, ...,  92,  88,  96],\n",
              "        [ 80,  88,  94, ...,  90,  86,  91],\n",
              "        ...,\n",
              "        [ 18,  11,  66, ...,  65,  18,  26],\n",
              "        [ 17,   9,  68, ...,  63,  17,  27],\n",
              "        [ 17,   7,  69, ...,  68,  16,  25]], dtype=uint8),\n",
              " array([[ 92,  83,  99, ...,  73, 160, 191],\n",
              "        [ 91,  89,  95, ...,  64, 125, 169],\n",
              "        [ 79,  91, 100, ...,  55,  87, 161],\n",
              "        ...,\n",
              "        [ 16,   2,  56, ...,  21,  18,  19],\n",
              "        [ 16,  12,  65, ...,  18,  17,  19],\n",
              "        [ 15,  40,  63, ...,  19,  18,  19]], dtype=uint8),\n",
              " array([[ 26,  14,   0, ...,  26,  55,  41],\n",
              "        [ 30,  26,  18, ...,  28,  75,  49],\n",
              "        [ 31,  26,  23, ...,  33,  31,  36],\n",
              "        ...,\n",
              "        [  9,  43,  60, ...,  97,  57,  29],\n",
              "        [  8,  44,  60, ..., 101,  58,  34],\n",
              "        [  8,  47,  65, ..., 101,  65,  34]], dtype=uint8),\n",
              " array([[ 44,  50,  55, ...,  92,  77,  66],\n",
              "        [ 65,  52,  48, ...,  89,  98,  91],\n",
              "        [ 57,  59,  64, ...,  92,  92, 103],\n",
              "        ...,\n",
              "        [ 21,  16,  33, ...,  24,  25,  27],\n",
              "        [ 21,  16,  45, ...,  25,  25,  27],\n",
              "        [ 21,  16,  54, ...,  27,  23,  26]], dtype=uint8),\n",
              " array([[14,  5, 28, ..., 12, 19, 26],\n",
              "        [ 0, 32, 41, ..., 36, 10, 21],\n",
              "        [38, 42, 47, ..., 50, 47, 45],\n",
              "        ...,\n",
              "        [ 8, 40, 60, ...,  7, 11, 12],\n",
              "        [ 7, 42, 59, ...,  9, 10, 13],\n",
              "        [ 5, 44, 65, ...,  4, 10, 13]], dtype=uint8)]"
            ]
          },
          "metadata": {
            "tags": []
          },
          "execution_count": 16
        }
      ]
    },
    {
      "cell_type": "code",
      "metadata": {
        "id": "e8L-7SzNq6s-",
        "colab_type": "code",
        "outputId": "183b680b-0424-4e84-8da4-f6009fa36f5b",
        "colab": {
          "base_uri": "https://localhost:8080/",
          "height": 134
        }
      },
      "source": [
        "image_pneumonia_list[3]"
      ],
      "execution_count": 17,
      "outputs": [
        {
          "output_type": "execute_result",
          "data": {
            "text/plain": [
              "array([[  5,  27,  32, ..., 189, 192, 200],\n",
              "       [167,  26,  36, ..., 197, 192, 207],\n",
              "       [187,  33,  38, ..., 182, 202, 211],\n",
              "       ...,\n",
              "       [ 23,  23,  21, ...,  15,  15,  17],\n",
              "       [ 24,  23,  23, ...,  17,  24,  16],\n",
              "       [ 25,  22,  22, ...,  26,  17,  16]], dtype=uint8)"
            ]
          },
          "metadata": {
            "tags": []
          },
          "execution_count": 17
        }
      ]
    },
    {
      "cell_type": "code",
      "metadata": {
        "id": "2y7glI7GizAl",
        "colab_type": "code",
        "colab": {}
      },
      "source": [
        "image_X1=np.asarray(image_pneumonia_list)\n",
        "nsample,nx,ny=image_X1.shape\n",
        "image_X1=image_X1.reshape((nsample,nx*ny))"
      ],
      "execution_count": 0,
      "outputs": []
    },
    {
      "cell_type": "code",
      "metadata": {
        "id": "hA3Drx8C-awb",
        "colab_type": "code",
        "colab": {
          "base_uri": "https://localhost:8080/",
          "height": 134
        },
        "outputId": "9914b734-a75b-45c9-d741-ea73ba41c87d"
      },
      "source": [
        "image_X1"
      ],
      "execution_count": 23,
      "outputs": [
        {
          "output_type": "execute_result",
          "data": {
            "text/plain": [
              "array([[  0,   0,  13, ...,   0,   0,   0],\n",
              "       [  0,   0,  13, ...,   0,   0,  30],\n",
              "       [  0,  48,  72, ...,   0,   0,   0],\n",
              "       ...,\n",
              "       [ 26,  14,   0, ..., 101,  65,  34],\n",
              "       [ 44,  50,  55, ...,  27,  23,  26],\n",
              "       [ 14,   5,  28, ...,   4,  10,  13]], dtype=uint8)"
            ]
          },
          "metadata": {
            "tags": []
          },
          "execution_count": 23
        }
      ]
    },
    {
      "cell_type": "code",
      "metadata": {
        "id": "000YHfOpCuDi",
        "colab_type": "code",
        "colab": {}
      },
      "source": [
        "import pandas as pd\n",
        "X=pd.DataFrame(data=image_X)"
      ],
      "execution_count": 0,
      "outputs": []
    },
    {
      "cell_type": "code",
      "metadata": {
        "id": "fc7f03fbDOCt",
        "colab_type": "code",
        "colab": {}
      },
      "source": [
        "X['status']=0 # normal"
      ],
      "execution_count": 0,
      "outputs": []
    },
    {
      "cell_type": "code",
      "metadata": {
        "id": "JfJqRZMEDaM4",
        "colab_type": "code",
        "colab": {}
      },
      "source": [
        "X1=pd.DataFrame(data=image_X1)"
      ],
      "execution_count": 0,
      "outputs": []
    },
    {
      "cell_type": "code",
      "metadata": {
        "id": "fXw9VcnSDd0-",
        "colab_type": "code",
        "colab": {}
      },
      "source": [
        "X1['status']=1 # penumonia"
      ],
      "execution_count": 0,
      "outputs": []
    },
    {
      "cell_type": "code",
      "metadata": {
        "id": "geawnLK4rd54",
        "colab_type": "code",
        "colab": {}
      },
      "source": [
        "total_X=pd.concat([X,X1],axis=0)"
      ],
      "execution_count": 0,
      "outputs": []
    },
    {
      "cell_type": "code",
      "metadata": {
        "id": "klac0myjEA6f",
        "colab_type": "code",
        "colab": {}
      },
      "source": [
        "total_X=total_X.sample(frac=1)"
      ],
      "execution_count": 0,
      "outputs": []
    },
    {
      "cell_type": "code",
      "metadata": {
        "id": "P6QKDjqnEg5L",
        "colab_type": "code",
        "colab": {}
      },
      "source": [
        "y=total_X['status']"
      ],
      "execution_count": 0,
      "outputs": []
    },
    {
      "cell_type": "code",
      "metadata": {
        "id": "ENzi_V9HFBNd",
        "colab_type": "code",
        "colab": {}
      },
      "source": [
        "total_X= total_X.iloc[:, :-1]"
      ],
      "execution_count": 0,
      "outputs": []
    },
    {
      "cell_type": "code",
      "metadata": {
        "id": "AUKxBKh2FP9I",
        "colab_type": "code",
        "colab": {}
      },
      "source": [
        "new_totalX=total_X.values"
      ],
      "execution_count": 0,
      "outputs": []
    },
    {
      "cell_type": "code",
      "metadata": {
        "id": "iJ2RQIT5FW_p",
        "colab_type": "code",
        "colab": {
          "base_uri": "https://localhost:8080/",
          "height": 134
        },
        "outputId": "8225194a-8801-4c17-8bb2-8459ce044f0b"
      },
      "source": [
        "new_totalX"
      ],
      "execution_count": 49,
      "outputs": [
        {
          "output_type": "execute_result",
          "data": {
            "text/plain": [
              "array([[14,  5, 28, ...,  4, 10, 13],\n",
              "       [ 5, 27, 32, ..., 26, 17, 16],\n",
              "       [20, 48, 71, ..., 61, 65, 64],\n",
              "       ...,\n",
              "       [ 0, 14, 29, ...,  0,  0,  0],\n",
              "       [12, 47, 66, ...,  0,  0,  0],\n",
              "       [ 0,  0, 13, ...,  0,  0,  0]], dtype=uint8)"
            ]
          },
          "metadata": {
            "tags": []
          },
          "execution_count": 49
        }
      ]
    },
    {
      "cell_type": "code",
      "metadata": {
        "id": "4J_DtF2MFXDI",
        "colab_type": "code",
        "colab": {}
      },
      "source": [
        "new_y=y.values"
      ],
      "execution_count": 0,
      "outputs": []
    },
    {
      "cell_type": "code",
      "metadata": {
        "id": "b4jL4uL3pWOG",
        "colab_type": "code",
        "colab": {}
      },
      "source": [
        ""
      ],
      "execution_count": 0,
      "outputs": []
    },
    {
      "cell_type": "code",
      "metadata": {
        "id": "7JIhqFnFPLSF",
        "colab_type": "code",
        "colab": {}
      },
      "source": [
        "from sklearn.neural_network import MLPClassifier\n",
        "mlp = MLPClassifier(hidden_layer_sizes=(50,), max_iter=10, alpha=1e-4,\n",
        "                    solver='sgd', verbose=10, random_state=1,\n",
        "                    learning_rate_init=.1)"
      ],
      "execution_count": 0,
      "outputs": []
    },
    {
      "cell_type": "code",
      "metadata": {
        "id": "9qWp9y0rPr5m",
        "colab_type": "code",
        "outputId": "ed098ff1-ad7a-4e46-f54e-c18be418b5f0",
        "colab": {
          "base_uri": "https://localhost:8080/",
          "height": 255
        }
      },
      "source": [
        "mlp.fit(new_totalX,new_y)\n",
        "print(\"Training set score: %f\" % mlp.score(new_totalX, new_y))\n",
        "#print(\"Test set score: %f\" % mlp.score(image_X, y_test))"
      ],
      "execution_count": 55,
      "outputs": [
        {
          "output_type": "stream",
          "text": [
            "Iteration 1, loss = inf\n",
            "Iteration 2, loss = inf\n",
            "Iteration 3, loss = inf\n",
            "Iteration 4, loss = 168932.33363009\n",
            "Iteration 5, loss = 272125.28649285\n",
            "Iteration 6, loss = 385937.42098953\n",
            "Iteration 7, loss = 505328.20993554\n",
            "Iteration 8, loss = 626517.08691572\n",
            "Iteration 9, loss = 746713.83305007\n",
            "Iteration 10, loss = 863903.21131229\n",
            "Training set score: 0.500000\n"
          ],
          "name": "stdout"
        },
        {
          "output_type": "stream",
          "text": [
            "/usr/local/lib/python3.6/dist-packages/sklearn/neural_network/_multilayer_perceptron.py:571: ConvergenceWarning: Stochastic Optimizer: Maximum iterations (10) reached and the optimization hasn't converged yet.\n",
            "  % self.max_iter, ConvergenceWarning)\n"
          ],
          "name": "stderr"
        }
      ]
    },
    {
      "cell_type": "code",
      "metadata": {
        "id": "X_3X9gl2T_0W",
        "colab_type": "code",
        "colab": {}
      },
      "source": [
        ""
      ],
      "execution_count": 0,
      "outputs": []
    },
    {
      "cell_type": "code",
      "metadata": {
        "id": "rdVZYJXXIuEV",
        "colab_type": "code",
        "colab": {}
      },
      "source": [
        "# Bournelli RBM"
      ],
      "execution_count": 0,
      "outputs": []
    },
    {
      "cell_type": "code",
      "metadata": {
        "id": "31u8JjRlT_4o",
        "colab_type": "code",
        "colab": {}
      },
      "source": [
        "from scipy.ndimage import convolve\n",
        "from sklearn import linear_model, datasets, metrics\n",
        "from sklearn.model_selection import train_test_split\n",
        "from sklearn.neural_network import BernoulliRBM\n",
        "from sklearn.pipeline import Pipeline\n",
        "from sklearn.base import clone"
      ],
      "execution_count": 0,
      "outputs": []
    },
    {
      "cell_type": "code",
      "metadata": {
        "id": "9ZO9Lio1ItmH",
        "colab_type": "code",
        "colab": {}
      },
      "source": [
        "X_train, X_test = new_totalX[:10], new_totalX[10:]\n",
        "y_train, y_test = new_y[:10], new_y[10:]"
      ],
      "execution_count": 0,
      "outputs": []
    },
    {
      "cell_type": "code",
      "metadata": {
        "id": "xhMS3DjJT_3V",
        "colab_type": "code",
        "colab": {
          "base_uri": "https://localhost:8080/",
          "height": 420
        },
        "outputId": "bb43d303-e02f-45d1-ff1e-21d7d7574181"
      },
      "source": [
        "logistic = linear_model.LogisticRegression(solver='newton-cg', tol=1)\n",
        "rbm = BernoulliRBM(random_state=0, verbose=True)\n",
        "\n",
        "rbm_features_classifier = Pipeline(\n",
        "    steps=[('rbm', rbm), ('logistic', logistic)])\n",
        "\n",
        "\n",
        "rbm.learning_rate = 0.06\n",
        "rbm.n_iter = 10\n",
        "# More components tend to give better prediction performance, but larger\n",
        "# fitting time\n",
        "rbm.n_components = 100\n",
        "logistic.C = 6000\n",
        "\n",
        "# Training RBM-Logistic Pipeline\n",
        "rbm_features_classifier.fit(X_train, y_train)"
      ],
      "execution_count": 67,
      "outputs": [
        {
          "output_type": "stream",
          "text": [
            "[BernoulliRBM] Iteration 1, pseudo-likelihood = 0.00, time = 0.01s\n",
            "[BernoulliRBM] Iteration 2, pseudo-likelihood = 0.00, time = 0.01s\n",
            "[BernoulliRBM] Iteration 3, pseudo-likelihood = 0.00, time = 0.01s\n",
            "[BernoulliRBM] Iteration 4, pseudo-likelihood = 0.00, time = 0.01s\n",
            "[BernoulliRBM] Iteration 5, pseudo-likelihood = 0.00, time = 0.01s\n",
            "[BernoulliRBM] Iteration 6, pseudo-likelihood = 0.00, time = 0.01s\n",
            "[BernoulliRBM] Iteration 7, pseudo-likelihood = 0.00, time = 0.01s\n",
            "[BernoulliRBM] Iteration 8, pseudo-likelihood = 0.00, time = 0.01s\n",
            "[BernoulliRBM] Iteration 9, pseudo-likelihood = 0.00, time = 0.01s\n",
            "[BernoulliRBM] Iteration 10, pseudo-likelihood = 0.00, time = 0.01s\n"
          ],
          "name": "stdout"
        },
        {
          "output_type": "execute_result",
          "data": {
            "text/plain": [
              "Pipeline(memory=None,\n",
              "         steps=[('rbm',\n",
              "                 BernoulliRBM(batch_size=10, learning_rate=0.06,\n",
              "                              n_components=100, n_iter=10, random_state=0,\n",
              "                              verbose=True)),\n",
              "                ('logistic',\n",
              "                 LogisticRegression(C=6000, class_weight=None, dual=False,\n",
              "                                    fit_intercept=True, intercept_scaling=1,\n",
              "                                    l1_ratio=None, max_iter=100,\n",
              "                                    multi_class='auto', n_jobs=None,\n",
              "                                    penalty='l2', random_state=None,\n",
              "                                    solver='newton-cg', tol=1, verbose=0,\n",
              "                                    warm_start=False))],\n",
              "         verbose=False)"
            ]
          },
          "metadata": {
            "tags": []
          },
          "execution_count": 67
        }
      ]
    },
    {
      "cell_type": "code",
      "metadata": {
        "id": "aw3pRneUOF4H",
        "colab_type": "code",
        "colab": {
          "base_uri": "https://localhost:8080/",
          "height": 101
        },
        "outputId": "f4aff1b7-f5d6-4ab8-db7f-576b16ae4db7"
      },
      "source": [
        "# Training the Logistic regression classifier directly on the pixel\n",
        "raw_pixel_classifier = clone(logistic)\n",
        "raw_pixel_classifier.C = 100.\n",
        "raw_pixel_classifier.fit(X_train, y_train)\n"
      ],
      "execution_count": 68,
      "outputs": [
        {
          "output_type": "execute_result",
          "data": {
            "text/plain": [
              "LogisticRegression(C=100.0, class_weight=None, dual=False, fit_intercept=True,\n",
              "                   intercept_scaling=1, l1_ratio=None, max_iter=100,\n",
              "                   multi_class='auto', n_jobs=None, penalty='l2',\n",
              "                   random_state=None, solver='newton-cg', tol=1, verbose=0,\n",
              "                   warm_start=False)"
            ]
          },
          "metadata": {
            "tags": []
          },
          "execution_count": 68
        }
      ]
    },
    {
      "cell_type": "code",
      "metadata": {
        "id": "MuC4jf5ULwTw",
        "colab_type": "code",
        "colab": {
          "base_uri": "https://localhost:8080/",
          "height": 34
        },
        "outputId": "b658a5b5-1ce8-4d97-a4f2-638f9161b3e7"
      },
      "source": [
        "X_train.shape"
      ],
      "execution_count": 69,
      "outputs": [
        {
          "output_type": "execute_result",
          "data": {
            "text/plain": [
              "(10, 2500)"
            ]
          },
          "metadata": {
            "tags": []
          },
          "execution_count": 69
        }
      ]
    },
    {
      "cell_type": "code",
      "metadata": {
        "id": "1xtsGsuULd9R",
        "colab_type": "code",
        "colab": {
          "base_uri": "https://localhost:8080/",
          "height": 706
        },
        "outputId": "f54436cf-e6a5-47e4-8ac3-15c333cdfc53"
      },
      "source": [
        "import matplotlib.pyplot as plt\n",
        "\n",
        "y_pred = rbm_features_classifier.predict(X_test)\n",
        "print(\"Logistic regression using RBM features:\\n%s\\n\" % (\n",
        "    metrics.classification_report(y_test, y_pred)))\n",
        "\n",
        "y_pred = raw_pixel_classifier.predict(X_test)\n",
        "print(\"Logistic regression using raw pixel features:\\n%s\\n\" % (\n",
        "    metrics.classification_report(y_test, y_pred)))\n",
        "\n",
        "# #############################################################################\n",
        "# Plotting\n",
        "\n",
        "plt.figure(figsize=(4.2, 4))\n",
        "for i, comp in enumerate(rbm.components_):\n",
        "    plt.subplot(10, 10, i + 1)\n",
        "    plt.imshow(cmap=plt.cm.gray_r,\n",
        "               interpolation='nearest')\n",
        "    plt.xticks(())\n",
        "    plt.yticks(())\n",
        "plt.suptitle('100 components extracted by RBM', fontsize=16)\n",
        "plt.subplots_adjust(0.08, 0.02, 0.92, 0.85, 0.08, 0.23)\n",
        "\n",
        "plt.show()"
      ],
      "execution_count": 73,
      "outputs": [
        {
          "output_type": "stream",
          "text": [
            "Logistic regression using RBM features:\n",
            "              precision    recall  f1-score   support\n",
            "\n",
            "           0       0.50      1.00      0.67         5\n",
            "           1       0.00      0.00      0.00         5\n",
            "\n",
            "    accuracy                           0.50        10\n",
            "   macro avg       0.25      0.50      0.33        10\n",
            "weighted avg       0.25      0.50      0.33        10\n",
            "\n",
            "\n",
            "Logistic regression using raw pixel features:\n",
            "              precision    recall  f1-score   support\n",
            "\n",
            "           0       0.83      1.00      0.91         5\n",
            "           1       1.00      0.80      0.89         5\n",
            "\n",
            "    accuracy                           0.90        10\n",
            "   macro avg       0.92      0.90      0.90        10\n",
            "weighted avg       0.92      0.90      0.90        10\n",
            "\n",
            "\n"
          ],
          "name": "stdout"
        },
        {
          "output_type": "stream",
          "text": [
            "/usr/local/lib/python3.6/dist-packages/sklearn/metrics/_classification.py:1272: UndefinedMetricWarning: Precision and F-score are ill-defined and being set to 0.0 in labels with no predicted samples. Use `zero_division` parameter to control this behavior.\n",
            "  _warn_prf(average, modifier, msg_start, len(result))\n"
          ],
          "name": "stderr"
        },
        {
          "output_type": "error",
          "ename": "TypeError",
          "evalue": "ignored",
          "traceback": [
            "\u001b[0;31m---------------------------------------------------------------------------\u001b[0m",
            "\u001b[0;31mTypeError\u001b[0m                                 Traceback (most recent call last)",
            "\u001b[0;32m<ipython-input-73-c716b6d95e55>\u001b[0m in \u001b[0;36m<module>\u001b[0;34m()\u001b[0m\n\u001b[1;32m     16\u001b[0m     \u001b[0mplt\u001b[0m\u001b[0;34m.\u001b[0m\u001b[0msubplot\u001b[0m\u001b[0;34m(\u001b[0m\u001b[0;36m10\u001b[0m\u001b[0;34m,\u001b[0m \u001b[0;36m10\u001b[0m\u001b[0;34m,\u001b[0m \u001b[0mi\u001b[0m \u001b[0;34m+\u001b[0m \u001b[0;36m1\u001b[0m\u001b[0;34m)\u001b[0m\u001b[0;34m\u001b[0m\u001b[0;34m\u001b[0m\u001b[0m\n\u001b[1;32m     17\u001b[0m     plt.imshow(cmap=plt.cm.gray_r,\n\u001b[0;32m---> 18\u001b[0;31m                interpolation='nearest')\n\u001b[0m\u001b[1;32m     19\u001b[0m     \u001b[0mplt\u001b[0m\u001b[0;34m.\u001b[0m\u001b[0mxticks\u001b[0m\u001b[0;34m(\u001b[0m\u001b[0;34m(\u001b[0m\u001b[0;34m)\u001b[0m\u001b[0;34m)\u001b[0m\u001b[0;34m\u001b[0m\u001b[0;34m\u001b[0m\u001b[0m\n\u001b[1;32m     20\u001b[0m     \u001b[0mplt\u001b[0m\u001b[0;34m.\u001b[0m\u001b[0myticks\u001b[0m\u001b[0;34m(\u001b[0m\u001b[0;34m(\u001b[0m\u001b[0;34m)\u001b[0m\u001b[0;34m)\u001b[0m\u001b[0;34m\u001b[0m\u001b[0;34m\u001b[0m\u001b[0m\n",
            "\u001b[0;31mTypeError\u001b[0m: imshow() missing 1 required positional argument: 'X'"
          ]
        },
        {
          "output_type": "display_data",
          "data": {
            "image/png": "[encoded data removed]",
            "text/plain": [
              "<Figure size 302.4x288 with 1 Axes>"
            ]
          },
          "metadata": {
            "tags": []
          }
        }
      ]
    },
    {
      "cell_type": "code",
      "metadata": {
        "id": "PT4QPBJpLd69",
        "colab_type": "code",
        "colab": {}
      },
      "source": [
        ""
      ],
      "execution_count": 0,
      "outputs": []
    },
    {
      "cell_type": "code",
      "metadata": {
        "id": "jZQ7XqjnOF66",
        "colab_type": "code",
        "colab": {}
      },
      "source": [
        ""
      ],
      "execution_count": 0,
      "outputs": []
    },
    {
      "cell_type": "code",
      "metadata": {
        "id": "FjI5irXxNQaj",
        "colab_type": "code",
        "colab": {}
      },
      "source": [
        "# from scipy.ndimage import convolve\n",
        "# from sklearn import linear_model, datasets, metrics\n",
        "# from sklearn.model_selection import train_test_split\n",
        "# from sklearn.neural_network import BernoulliRBM\n",
        "# from sklearn.pipeline import Pipeline\n",
        "# from sklearn.base import clone"
      ],
      "execution_count": 0,
      "outputs": []
    },
    {
      "cell_type": "code",
      "metadata": {
        "id": "Y_ekJaOZNQc7",
        "colab_type": "code",
        "colab": {}
      },
      "source": [
        ""
      ],
      "execution_count": 0,
      "outputs": []
    },
    {
      "cell_type": "code",
      "metadata": {
        "id": "FmhL5WjoYOvQ",
        "colab_type": "code",
        "colab": {}
      },
      "source": [
        "# import matplotlib.pyplot as plt #for plotting things\n",
        "# import os\n",
        "# from PIL import Image\n",
        "\n",
        "\n",
        "# # Keras Libraries\n",
        "# import keras\n",
        "# from keras.models import Sequential\n",
        "# from keras.layers import Conv2D\n",
        "# from keras.layers import MaxPooling2D\n",
        "# from keras.layers import Flatten\n",
        "# from keras.layers import Dense\n",
        "# from keras.preprocessing.image import ImageDataGenerator, load_img"
      ],
      "execution_count": 0,
      "outputs": []
    },
    {
      "cell_type": "code",
      "metadata": {
        "id": "di3G8ZZmYOvT",
        "colab_type": "code",
        "colab": {}
      },
      "source": [
        ""
      ],
      "execution_count": 0,
      "outputs": []
    },
    {
      "cell_type": "code",
      "metadata": {
        "id": "XBfdZaNHYOvU",
        "colab_type": "code",
        "colab": {}
      },
      "source": [
        "# train_folder= 'drive/My Drive/for Thinkful/xray_data/train_new'\n",
        "\n",
        "# test_folder = 'drive/My Drive/for Thinkful/xray_data/test_new'\n"
      ],
      "execution_count": 0,
      "outputs": []
    },
    {
      "cell_type": "code",
      "metadata": {
        "id": "ZvKqQLfpYOvW",
        "colab_type": "code",
        "colab": {}
      },
      "source": [
        "# #os.listdir(train_folder)\n",
        "# train_n = train_folder+'NORMAL/'\n",
        "# train_p = train_folder+'PNEUMONIA/'\n",
        "# train_n"
      ],
      "execution_count": 0,
      "outputs": []
    },
    {
      "cell_type": "code",
      "metadata": {
        "id": "GCmqQ9tRYOvY",
        "colab_type": "code",
        "colab": {}
      },
      "source": [
        "# train_datagen = ImageDataGenerator(rescale = 1./255,shear_range = 0.2,zoom_range = 0.2,horizontal_flip = True)\n",
        "\n",
        "# test_datagen = ImageDataGenerator(rescale = 1./255)  #Image normalization.\n",
        "\n",
        "# train_datagen\n",
        "# # load the normal and penumia sepaately and combine with labels"
      ],
      "execution_count": 0,
      "outputs": []
    },
    {
      "cell_type": "code",
      "metadata": {
        "scrolled": true,
        "id": "xf7blM7oYOva",
        "colab_type": "code",
        "colab": {}
      },
      "source": [
        "# train1 = train_datagen.flow_from_directory(\"drive/My Drive/for Thinkful/xray_data/train_new\",\n",
        "#                                                  target_size = (256, 256),\n",
        "#                                                  batch_size = 32,\n",
        "#                                                  class_mode = 'binary')\n",
        "\n",
        "# test1 = test_datagen.flow_from_directory(\"drive/My Drive/for Thinkful/xray_data/test_new\",\n",
        "#                                             target_size = (256, 256),\n",
        "#                                             batch_size = 32,\n",
        "#                                             class_mode = 'binary')\n"
      ],
      "execution_count": 0,
      "outputs": []
    },
    {
      "cell_type": "code",
      "metadata": {
        "id": "QqsG7e8D7DnZ",
        "colab_type": "code",
        "colab": {}
      },
      "source": [
        ""
      ],
      "execution_count": 0,
      "outputs": []
    },
    {
      "cell_type": "code",
      "metadata": {
        "id": "7SjHPiER7Din",
        "colab_type": "code",
        "colab": {}
      },
      "source": [
        ""
      ],
      "execution_count": 0,
      "outputs": []
    },
    {
      "cell_type": "code",
      "metadata": {
        "id": "5Q8fJWhlYOvl",
        "colab_type": "code",
        "colab": {}
      },
      "source": [
        ""
      ],
      "execution_count": 0,
      "outputs": []
    },
    {
      "cell_type": "code",
      "metadata": {
        "id": "dYg-K6bYYOvn",
        "colab_type": "code",
        "colab": {}
      },
      "source": [
        ""
      ],
      "execution_count": 0,
      "outputs": []
    }
  ]
}