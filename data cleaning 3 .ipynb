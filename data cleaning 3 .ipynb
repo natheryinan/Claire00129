{
 "cells": [
  {
   "cell_type": "markdown",
   "metadata": {},
   "source": [
    "1.Consider the two variables: TOTAL_REVENUE and TOTAL_EXPENDITURE. Do these variables have outlier values?\n",
    "\n",
    "2.If you detect outliers in the TOTAL_REVENUE and TOTAL_EXPENDITURE variables, apply the techniques you learned in this checkpoint to eliminate them and validate that there's no outlier values after you handled them.\n",
    "\n",
    "3.Create another variable by subtracting the original TOTAL_EXPENDITURE from TOTAL_REVENUE (before you eliminated the outliers). You can think of it as a kind of budget deficit in education. Do you find any outlier values in this new variable? If so, eliminate them using the technique you think most suitable.\n",
    "\n",
    "4.Now create another variable by subtracting the TOTAL_EXPENDITURE from TOTAL_REVENUE. This time, use the outlier eliminated versions of TOTAL_EXPENDITURE from TOTAL_REVENUE. In this newly created variable, can you find any outliers? If so, eliminate them.\n",
    "\n",
    "5.Compare some basic descriptive statistics of the budget variables you end up with in the 3rd and the 4th questions. Do you see any differences?\n",
    "\n",
    "6.If our variable of interest is the budget deficit variable, which method do you think is the appropriate in dealing with the outliers in this variable: the method in the 3rd question or the one in the 4th question?\n"
   ]
  },
  {
   "cell_type": "code",
   "execution_count": 1,
   "metadata": {},
   "outputs": [],
   "source": [
    "import pandas as pd\n",
    "import numpy as np\n",
    "from sqlalchemy import create_engine\n",
    "import warnings\n",
    "import matplotlib.pyplot as plt\n",
    "import seaborn as sns\n",
    "%matplotlib inline\n",
    "warnings.filterwarnings('ignore')"
   ]
  },
  {
   "cell_type": "code",
   "execution_count": 2,
   "metadata": {},
   "outputs": [],
   "source": [
    "postgres_user = 'dsbc_student'\n",
    "postgres_pw = '7*.8G9QH21'\n",
    "postgres_host = '142.93.121.174'\n",
    "postgres_port = '5432'\n",
    "postgres_db = 'useducation'\n",
    "engine = create_engine('postgresql://{}:{}@{}:{}/{}'.format(\n",
    "    postgres_user, postgres_pw, postgres_host, postgres_port, postgres_db))\n",
    "\n",
    "useducation = pd.read_sql_query('select * from useducation',con=engine)\n",
    "\n",
    "engine.dispose()"
   ]
  },
  {
   "cell_type": "code",
   "execution_count": 3,
   "metadata": {},
   "outputs": [],
   "source": [
    "#Consider the two variables: TOTAL_REVENUE and TOTAL_EXPENDITURE. Do these variables have outlier values?"
   ]
  },
  {
   "cell_type": "code",
   "execution_count": 4,
   "metadata": {},
   "outputs": [
    {
     "data": {
      "text/html": [
       "<div>\n",
       "<style scoped>\n",
       "    .dataframe tbody tr th:only-of-type {\n",
       "        vertical-align: middle;\n",
       "    }\n",
       "\n",
       "    .dataframe tbody tr th {\n",
       "        vertical-align: top;\n",
       "    }\n",
       "\n",
       "    .dataframe thead th {\n",
       "        text-align: right;\n",
       "    }\n",
       "</style>\n",
       "<table border=\"1\" class=\"dataframe\">\n",
       "  <thead>\n",
       "    <tr style=\"text-align: right;\">\n",
       "      <th></th>\n",
       "      <th>PRIMARY_KEY</th>\n",
       "      <th>STATE</th>\n",
       "      <th>YEAR</th>\n",
       "      <th>ENROLL</th>\n",
       "      <th>TOTAL_REVENUE</th>\n",
       "      <th>FEDERAL_REVENUE</th>\n",
       "      <th>STATE_REVENUE</th>\n",
       "      <th>LOCAL_REVENUE</th>\n",
       "      <th>TOTAL_EXPENDITURE</th>\n",
       "      <th>INSTRUCTION_EXPENDITURE</th>\n",
       "      <th>...</th>\n",
       "      <th>GRADES_4_G</th>\n",
       "      <th>GRADES_8_G</th>\n",
       "      <th>GRADES_12_G</th>\n",
       "      <th>GRADES_1_8_G</th>\n",
       "      <th>GRADES_9_12_G</th>\n",
       "      <th>GRADES_ALL_G</th>\n",
       "      <th>AVG_MATH_4_SCORE</th>\n",
       "      <th>AVG_MATH_8_SCORE</th>\n",
       "      <th>AVG_READING_4_SCORE</th>\n",
       "      <th>AVG_READING_8_SCORE</th>\n",
       "    </tr>\n",
       "  </thead>\n",
       "  <tbody>\n",
       "    <tr>\n",
       "      <th>0</th>\n",
       "      <td>1992_ALABAMA</td>\n",
       "      <td>ALABAMA</td>\n",
       "      <td>1992</td>\n",
       "      <td>NaN</td>\n",
       "      <td>2678885.0</td>\n",
       "      <td>304177.0</td>\n",
       "      <td>1659028.0</td>\n",
       "      <td>715680.0</td>\n",
       "      <td>2653798.0</td>\n",
       "      <td>1481703.0</td>\n",
       "      <td>...</td>\n",
       "      <td>57948.0</td>\n",
       "      <td>58025.0</td>\n",
       "      <td>41167.0</td>\n",
       "      <td>471564.0</td>\n",
       "      <td>196386.0</td>\n",
       "      <td>676174.0</td>\n",
       "      <td>208.327876</td>\n",
       "      <td>252.187522</td>\n",
       "      <td>207.963517</td>\n",
       "      <td>NaN</td>\n",
       "    </tr>\n",
       "    <tr>\n",
       "      <th>1</th>\n",
       "      <td>1992_ALASKA</td>\n",
       "      <td>ALASKA</td>\n",
       "      <td>1992</td>\n",
       "      <td>NaN</td>\n",
       "      <td>1049591.0</td>\n",
       "      <td>106780.0</td>\n",
       "      <td>720711.0</td>\n",
       "      <td>222100.0</td>\n",
       "      <td>972488.0</td>\n",
       "      <td>498362.0</td>\n",
       "      <td>...</td>\n",
       "      <td>9748.0</td>\n",
       "      <td>8789.0</td>\n",
       "      <td>6714.0</td>\n",
       "      <td>79117.0</td>\n",
       "      <td>30847.0</td>\n",
       "      <td>112335.0</td>\n",
       "      <td>NaN</td>\n",
       "      <td>NaN</td>\n",
       "      <td>NaN</td>\n",
       "      <td>258.859712</td>\n",
       "    </tr>\n",
       "    <tr>\n",
       "      <th>2</th>\n",
       "      <td>1992_ARIZONA</td>\n",
       "      <td>ARIZONA</td>\n",
       "      <td>1992</td>\n",
       "      <td>NaN</td>\n",
       "      <td>3258079.0</td>\n",
       "      <td>297888.0</td>\n",
       "      <td>1369815.0</td>\n",
       "      <td>1590376.0</td>\n",
       "      <td>3401580.0</td>\n",
       "      <td>1435908.0</td>\n",
       "      <td>...</td>\n",
       "      <td>55433.0</td>\n",
       "      <td>49081.0</td>\n",
       "      <td>37410.0</td>\n",
       "      <td>437127.0</td>\n",
       "      <td>175210.0</td>\n",
       "      <td>614881.0</td>\n",
       "      <td>215.253932</td>\n",
       "      <td>265.366278</td>\n",
       "      <td>206.212716</td>\n",
       "      <td>262.169895</td>\n",
       "    </tr>\n",
       "    <tr>\n",
       "      <th>3</th>\n",
       "      <td>1992_ARKANSAS</td>\n",
       "      <td>ARKANSAS</td>\n",
       "      <td>1992</td>\n",
       "      <td>NaN</td>\n",
       "      <td>1711959.0</td>\n",
       "      <td>178571.0</td>\n",
       "      <td>958785.0</td>\n",
       "      <td>574603.0</td>\n",
       "      <td>1743022.0</td>\n",
       "      <td>964323.0</td>\n",
       "      <td>...</td>\n",
       "      <td>34632.0</td>\n",
       "      <td>36011.0</td>\n",
       "      <td>27651.0</td>\n",
       "      <td>281338.0</td>\n",
       "      <td>123113.0</td>\n",
       "      <td>405259.0</td>\n",
       "      <td>210.206028</td>\n",
       "      <td>256.312090</td>\n",
       "      <td>208.634458</td>\n",
       "      <td>264.619665</td>\n",
       "    </tr>\n",
       "    <tr>\n",
       "      <th>4</th>\n",
       "      <td>1992_CALIFORNIA</td>\n",
       "      <td>CALIFORNIA</td>\n",
       "      <td>1992</td>\n",
       "      <td>NaN</td>\n",
       "      <td>26260025.0</td>\n",
       "      <td>2072470.0</td>\n",
       "      <td>16546514.0</td>\n",
       "      <td>7641041.0</td>\n",
       "      <td>27138832.0</td>\n",
       "      <td>14358922.0</td>\n",
       "      <td>...</td>\n",
       "      <td>418418.0</td>\n",
       "      <td>363296.0</td>\n",
       "      <td>270675.0</td>\n",
       "      <td>3286034.0</td>\n",
       "      <td>1372011.0</td>\n",
       "      <td>4717112.0</td>\n",
       "      <td>208.398961</td>\n",
       "      <td>260.892247</td>\n",
       "      <td>196.764414</td>\n",
       "      <td>NaN</td>\n",
       "    </tr>\n",
       "    <tr>\n",
       "      <th>5</th>\n",
       "      <td>1992_COLORADO</td>\n",
       "      <td>COLORADO</td>\n",
       "      <td>1992</td>\n",
       "      <td>NaN</td>\n",
       "      <td>3185173.0</td>\n",
       "      <td>163253.0</td>\n",
       "      <td>1307986.0</td>\n",
       "      <td>1713934.0</td>\n",
       "      <td>3264826.0</td>\n",
       "      <td>1642466.0</td>\n",
       "      <td>...</td>\n",
       "      <td>50648.0</td>\n",
       "      <td>45025.0</td>\n",
       "      <td>34533.0</td>\n",
       "      <td>394904.0</td>\n",
       "      <td>160299.0</td>\n",
       "      <td>562613.0</td>\n",
       "      <td>221.023429</td>\n",
       "      <td>272.398433</td>\n",
       "      <td>213.480890</td>\n",
       "      <td>266.419687</td>\n",
       "    </tr>\n",
       "    <tr>\n",
       "      <th>6</th>\n",
       "      <td>1992_CONNECTICUT</td>\n",
       "      <td>CONNECTICUT</td>\n",
       "      <td>1992</td>\n",
       "      <td>NaN</td>\n",
       "      <td>3834302.0</td>\n",
       "      <td>143542.0</td>\n",
       "      <td>1342539.0</td>\n",
       "      <td>2348221.0</td>\n",
       "      <td>3721338.0</td>\n",
       "      <td>2148041.0</td>\n",
       "      <td>...</td>\n",
       "      <td>38058.0</td>\n",
       "      <td>33691.0</td>\n",
       "      <td>28366.0</td>\n",
       "      <td>304284.0</td>\n",
       "      <td>126917.0</td>\n",
       "      <td>436932.0</td>\n",
       "      <td>226.798480</td>\n",
       "      <td>273.739345</td>\n",
       "      <td>222.417599</td>\n",
       "      <td>264.713904</td>\n",
       "    </tr>\n",
       "    <tr>\n",
       "      <th>7</th>\n",
       "      <td>1992_DELAWARE</td>\n",
       "      <td>DELAWARE</td>\n",
       "      <td>1992</td>\n",
       "      <td>NaN</td>\n",
       "      <td>645233.0</td>\n",
       "      <td>45945.0</td>\n",
       "      <td>420942.0</td>\n",
       "      <td>178346.0</td>\n",
       "      <td>638784.0</td>\n",
       "      <td>372722.0</td>\n",
       "      <td>...</td>\n",
       "      <td>8272.0</td>\n",
       "      <td>8012.0</td>\n",
       "      <td>6129.0</td>\n",
       "      <td>67495.0</td>\n",
       "      <td>28338.0</td>\n",
       "      <td>96296.0</td>\n",
       "      <td>217.899972</td>\n",
       "      <td>262.868585</td>\n",
       "      <td>206.389052</td>\n",
       "      <td>261.577921</td>\n",
       "    </tr>\n",
       "    <tr>\n",
       "      <th>8</th>\n",
       "      <td>1992_DISTRICT_OF_COLUMBIA</td>\n",
       "      <td>DISTRICT_OF_COLUMBIA</td>\n",
       "      <td>1992</td>\n",
       "      <td>NaN</td>\n",
       "      <td>709480.0</td>\n",
       "      <td>64749.0</td>\n",
       "      <td>0.0</td>\n",
       "      <td>644731.0</td>\n",
       "      <td>742893.0</td>\n",
       "      <td>329160.0</td>\n",
       "      <td>...</td>\n",
       "      <td>5832.0</td>\n",
       "      <td>5000.0</td>\n",
       "      <td>3433.0</td>\n",
       "      <td>47009.0</td>\n",
       "      <td>18173.0</td>\n",
       "      <td>70000.0</td>\n",
       "      <td>192.600553</td>\n",
       "      <td>234.924621</td>\n",
       "      <td>178.557612</td>\n",
       "      <td>265.976765</td>\n",
       "    </tr>\n",
       "    <tr>\n",
       "      <th>9</th>\n",
       "      <td>1992_FLORIDA</td>\n",
       "      <td>FLORIDA</td>\n",
       "      <td>1992</td>\n",
       "      <td>NaN</td>\n",
       "      <td>11506299.0</td>\n",
       "      <td>788420.0</td>\n",
       "      <td>5683949.0</td>\n",
       "      <td>5033930.0</td>\n",
       "      <td>11305642.0</td>\n",
       "      <td>5166374.0</td>\n",
       "      <td>...</td>\n",
       "      <td>164416.0</td>\n",
       "      <td>142372.0</td>\n",
       "      <td>100835.0</td>\n",
       "      <td>1276685.0</td>\n",
       "      <td>511557.0</td>\n",
       "      <td>1819706.0</td>\n",
       "      <td>213.689751</td>\n",
       "      <td>259.908848</td>\n",
       "      <td>204.882606</td>\n",
       "      <td>262.118986</td>\n",
       "    </tr>\n",
       "    <tr>\n",
       "      <th>10</th>\n",
       "      <td>1992_GEORGIA</td>\n",
       "      <td>GEORGIA</td>\n",
       "      <td>1992</td>\n",
       "      <td>NaN</td>\n",
       "      <td>5536901.0</td>\n",
       "      <td>398701.0</td>\n",
       "      <td>2798674.0</td>\n",
       "      <td>2339526.0</td>\n",
       "      <td>5535942.0</td>\n",
       "      <td>3043984.0</td>\n",
       "      <td>...</td>\n",
       "      <td>99648.0</td>\n",
       "      <td>92374.0</td>\n",
       "      <td>63646.0</td>\n",
       "      <td>787599.0</td>\n",
       "      <td>315539.0</td>\n",
       "      <td>1106441.0</td>\n",
       "      <td>215.594906</td>\n",
       "      <td>259.359434</td>\n",
       "      <td>206.844175</td>\n",
       "      <td>NaN</td>\n",
       "    </tr>\n",
       "    <tr>\n",
       "      <th>11</th>\n",
       "      <td>1992_HAWAII</td>\n",
       "      <td>HAWAII</td>\n",
       "      <td>1992</td>\n",
       "      <td>NaN</td>\n",
       "      <td>996809.0</td>\n",
       "      <td>71273.0</td>\n",
       "      <td>903443.0</td>\n",
       "      <td>22093.0</td>\n",
       "      <td>1040121.0</td>\n",
       "      <td>536115.0</td>\n",
       "      <td>...</td>\n",
       "      <td>13754.0</td>\n",
       "      <td>11750.0</td>\n",
       "      <td>9051.0</td>\n",
       "      <td>107242.0</td>\n",
       "      <td>43882.0</td>\n",
       "      <td>151649.0</td>\n",
       "      <td>214.056666</td>\n",
       "      <td>257.410887</td>\n",
       "      <td>200.880272</td>\n",
       "      <td>NaN</td>\n",
       "    </tr>\n",
       "    <tr>\n",
       "      <th>12</th>\n",
       "      <td>1992_IDAHO</td>\n",
       "      <td>IDAHO</td>\n",
       "      <td>1992</td>\n",
       "      <td>NaN</td>\n",
       "      <td>859329.0</td>\n",
       "      <td>69138.0</td>\n",
       "      <td>531912.0</td>\n",
       "      <td>258279.0</td>\n",
       "      <td>886161.0</td>\n",
       "      <td>473505.0</td>\n",
       "      <td>...</td>\n",
       "      <td>18607.0</td>\n",
       "      <td>18880.0</td>\n",
       "      <td>14593.0</td>\n",
       "      <td>146573.0</td>\n",
       "      <td>66541.0</td>\n",
       "      <td>214345.0</td>\n",
       "      <td>221.562534</td>\n",
       "      <td>275.090294</td>\n",
       "      <td>NaN</td>\n",
       "      <td>NaN</td>\n",
       "    </tr>\n",
       "    <tr>\n",
       "      <th>13</th>\n",
       "      <td>1992_ILLINOIS</td>\n",
       "      <td>ILLINOIS</td>\n",
       "      <td>1992</td>\n",
       "      <td>NaN</td>\n",
       "      <td>9748650.0</td>\n",
       "      <td>597077.0</td>\n",
       "      <td>3073178.0</td>\n",
       "      <td>6078395.0</td>\n",
       "      <td>9850560.0</td>\n",
       "      <td>5010400.0</td>\n",
       "      <td>...</td>\n",
       "      <td>133120.0</td>\n",
       "      <td>134317.0</td>\n",
       "      <td>106475.0</td>\n",
       "      <td>1111167.0</td>\n",
       "      <td>495562.0</td>\n",
       "      <td>1646411.0</td>\n",
       "      <td>NaN</td>\n",
       "      <td>NaN</td>\n",
       "      <td>NaN</td>\n",
       "      <td>NaN</td>\n",
       "    </tr>\n",
       "    <tr>\n",
       "      <th>14</th>\n",
       "      <td>1992_INDIANA</td>\n",
       "      <td>INDIANA</td>\n",
       "      <td>1992</td>\n",
       "      <td>NaN</td>\n",
       "      <td>5060274.0</td>\n",
       "      <td>257044.0</td>\n",
       "      <td>2578149.0</td>\n",
       "      <td>2225081.0</td>\n",
       "      <td>5182754.0</td>\n",
       "      <td>2598925.0</td>\n",
       "      <td>...</td>\n",
       "      <td>73760.0</td>\n",
       "      <td>75477.0</td>\n",
       "      <td>62234.0</td>\n",
       "      <td>601890.0</td>\n",
       "      <td>278161.0</td>\n",
       "      <td>883276.0</td>\n",
       "      <td>221.037742</td>\n",
       "      <td>270.098944</td>\n",
       "      <td>219.763258</td>\n",
       "      <td>NaN</td>\n",
       "    </tr>\n",
       "    <tr>\n",
       "      <th>15</th>\n",
       "      <td>1992_IOWA</td>\n",
       "      <td>IOWA</td>\n",
       "      <td>1992</td>\n",
       "      <td>NaN</td>\n",
       "      <td>2663934.0</td>\n",
       "      <td>125665.0</td>\n",
       "      <td>1176205.0</td>\n",
       "      <td>1362064.0</td>\n",
       "      <td>2795774.0</td>\n",
       "      <td>1446478.0</td>\n",
       "      <td>...</td>\n",
       "      <td>37692.0</td>\n",
       "      <td>36892.0</td>\n",
       "      <td>33057.0</td>\n",
       "      <td>299253.0</td>\n",
       "      <td>138907.0</td>\n",
       "      <td>442752.0</td>\n",
       "      <td>229.884078</td>\n",
       "      <td>283.360009</td>\n",
       "      <td>222.852939</td>\n",
       "      <td>NaN</td>\n",
       "    </tr>\n",
       "    <tr>\n",
       "      <th>16</th>\n",
       "      <td>1992_KANSAS</td>\n",
       "      <td>KANSAS</td>\n",
       "      <td>1992</td>\n",
       "      <td>NaN</td>\n",
       "      <td>2245348.0</td>\n",
       "      <td>121625.0</td>\n",
       "      <td>903199.0</td>\n",
       "      <td>1220524.0</td>\n",
       "      <td>2234915.0</td>\n",
       "      <td>1165749.0</td>\n",
       "      <td>...</td>\n",
       "      <td>36013.0</td>\n",
       "      <td>33288.0</td>\n",
       "      <td>26706.0</td>\n",
       "      <td>284143.0</td>\n",
       "      <td>120960.0</td>\n",
       "      <td>407494.0</td>\n",
       "      <td>NaN</td>\n",
       "      <td>NaN</td>\n",
       "      <td>NaN</td>\n",
       "      <td>NaN</td>\n",
       "    </tr>\n",
       "    <tr>\n",
       "      <th>17</th>\n",
       "      <td>1992_KENTUCKY</td>\n",
       "      <td>KENTUCKY</td>\n",
       "      <td>1992</td>\n",
       "      <td>NaN</td>\n",
       "      <td>2642902.0</td>\n",
       "      <td>289902.0</td>\n",
       "      <td>1643109.0</td>\n",
       "      <td>709891.0</td>\n",
       "      <td>2518082.0</td>\n",
       "      <td>1343438.0</td>\n",
       "      <td>...</td>\n",
       "      <td>49666.0</td>\n",
       "      <td>49993.0</td>\n",
       "      <td>38029.0</td>\n",
       "      <td>400849.0</td>\n",
       "      <td>181786.0</td>\n",
       "      <td>597199.0</td>\n",
       "      <td>215.048158</td>\n",
       "      <td>262.241282</td>\n",
       "      <td>211.562307</td>\n",
       "      <td>NaN</td>\n",
       "    </tr>\n",
       "    <tr>\n",
       "      <th>18</th>\n",
       "      <td>1992_LOUISIANA</td>\n",
       "      <td>LOUISIANA</td>\n",
       "      <td>1992</td>\n",
       "      <td>NaN</td>\n",
       "      <td>3341253.0</td>\n",
       "      <td>367822.0</td>\n",
       "      <td>1848734.0</td>\n",
       "      <td>1124697.0</td>\n",
       "      <td>3362853.0</td>\n",
       "      <td>1888349.0</td>\n",
       "      <td>...</td>\n",
       "      <td>61125.0</td>\n",
       "      <td>55942.0</td>\n",
       "      <td>38368.0</td>\n",
       "      <td>490112.0</td>\n",
       "      <td>196891.0</td>\n",
       "      <td>698442.0</td>\n",
       "      <td>204.140211</td>\n",
       "      <td>249.983926</td>\n",
       "      <td>196.762268</td>\n",
       "      <td>NaN</td>\n",
       "    </tr>\n",
       "    <tr>\n",
       "      <th>19</th>\n",
       "      <td>1992_MAINE</td>\n",
       "      <td>MAINE</td>\n",
       "      <td>1992</td>\n",
       "      <td>NaN</td>\n",
       "      <td>1206819.0</td>\n",
       "      <td>73160.0</td>\n",
       "      <td>511654.0</td>\n",
       "      <td>622005.0</td>\n",
       "      <td>1228869.0</td>\n",
       "      <td>685350.0</td>\n",
       "      <td>...</td>\n",
       "      <td>17154.0</td>\n",
       "      <td>15969.0</td>\n",
       "      <td>13882.0</td>\n",
       "      <td>135320.0</td>\n",
       "      <td>59289.0</td>\n",
       "      <td>195882.0</td>\n",
       "      <td>231.638840</td>\n",
       "      <td>278.635384</td>\n",
       "      <td>228.380027</td>\n",
       "      <td>NaN</td>\n",
       "    </tr>\n",
       "  </tbody>\n",
       "</table>\n",
       "<p>20 rows × 25 columns</p>\n",
       "</div>"
      ],
      "text/plain": [
       "                  PRIMARY_KEY                 STATE  YEAR  ENROLL  \\\n",
       "0                1992_ALABAMA               ALABAMA  1992     NaN   \n",
       "1                 1992_ALASKA                ALASKA  1992     NaN   \n",
       "2                1992_ARIZONA               ARIZONA  1992     NaN   \n",
       "3               1992_ARKANSAS              ARKANSAS  1992     NaN   \n",
       "4             1992_CALIFORNIA            CALIFORNIA  1992     NaN   \n",
       "5               1992_COLORADO              COLORADO  1992     NaN   \n",
       "6            1992_CONNECTICUT           CONNECTICUT  1992     NaN   \n",
       "7               1992_DELAWARE              DELAWARE  1992     NaN   \n",
       "8   1992_DISTRICT_OF_COLUMBIA  DISTRICT_OF_COLUMBIA  1992     NaN   \n",
       "9                1992_FLORIDA               FLORIDA  1992     NaN   \n",
       "10               1992_GEORGIA               GEORGIA  1992     NaN   \n",
       "11                1992_HAWAII                HAWAII  1992     NaN   \n",
       "12                 1992_IDAHO                 IDAHO  1992     NaN   \n",
       "13              1992_ILLINOIS              ILLINOIS  1992     NaN   \n",
       "14               1992_INDIANA               INDIANA  1992     NaN   \n",
       "15                  1992_IOWA                  IOWA  1992     NaN   \n",
       "16                1992_KANSAS                KANSAS  1992     NaN   \n",
       "17              1992_KENTUCKY              KENTUCKY  1992     NaN   \n",
       "18             1992_LOUISIANA             LOUISIANA  1992     NaN   \n",
       "19                 1992_MAINE                 MAINE  1992     NaN   \n",
       "\n",
       "    TOTAL_REVENUE  FEDERAL_REVENUE  STATE_REVENUE  LOCAL_REVENUE  \\\n",
       "0       2678885.0         304177.0      1659028.0       715680.0   \n",
       "1       1049591.0         106780.0       720711.0       222100.0   \n",
       "2       3258079.0         297888.0      1369815.0      1590376.0   \n",
       "3       1711959.0         178571.0       958785.0       574603.0   \n",
       "4      26260025.0        2072470.0     16546514.0      7641041.0   \n",
       "5       3185173.0         163253.0      1307986.0      1713934.0   \n",
       "6       3834302.0         143542.0      1342539.0      2348221.0   \n",
       "7        645233.0          45945.0       420942.0       178346.0   \n",
       "8        709480.0          64749.0            0.0       644731.0   \n",
       "9      11506299.0         788420.0      5683949.0      5033930.0   \n",
       "10      5536901.0         398701.0      2798674.0      2339526.0   \n",
       "11       996809.0          71273.0       903443.0        22093.0   \n",
       "12       859329.0          69138.0       531912.0       258279.0   \n",
       "13      9748650.0         597077.0      3073178.0      6078395.0   \n",
       "14      5060274.0         257044.0      2578149.0      2225081.0   \n",
       "15      2663934.0         125665.0      1176205.0      1362064.0   \n",
       "16      2245348.0         121625.0       903199.0      1220524.0   \n",
       "17      2642902.0         289902.0      1643109.0       709891.0   \n",
       "18      3341253.0         367822.0      1848734.0      1124697.0   \n",
       "19      1206819.0          73160.0       511654.0       622005.0   \n",
       "\n",
       "    TOTAL_EXPENDITURE  INSTRUCTION_EXPENDITURE  ...  GRADES_4_G  GRADES_8_G  \\\n",
       "0           2653798.0                1481703.0  ...     57948.0     58025.0   \n",
       "1            972488.0                 498362.0  ...      9748.0      8789.0   \n",
       "2           3401580.0                1435908.0  ...     55433.0     49081.0   \n",
       "3           1743022.0                 964323.0  ...     34632.0     36011.0   \n",
       "4          27138832.0               14358922.0  ...    418418.0    363296.0   \n",
       "5           3264826.0                1642466.0  ...     50648.0     45025.0   \n",
       "6           3721338.0                2148041.0  ...     38058.0     33691.0   \n",
       "7            638784.0                 372722.0  ...      8272.0      8012.0   \n",
       "8            742893.0                 329160.0  ...      5832.0      5000.0   \n",
       "9          11305642.0                5166374.0  ...    164416.0    142372.0   \n",
       "10          5535942.0                3043984.0  ...     99648.0     92374.0   \n",
       "11          1040121.0                 536115.0  ...     13754.0     11750.0   \n",
       "12           886161.0                 473505.0  ...     18607.0     18880.0   \n",
       "13          9850560.0                5010400.0  ...    133120.0    134317.0   \n",
       "14          5182754.0                2598925.0  ...     73760.0     75477.0   \n",
       "15          2795774.0                1446478.0  ...     37692.0     36892.0   \n",
       "16          2234915.0                1165749.0  ...     36013.0     33288.0   \n",
       "17          2518082.0                1343438.0  ...     49666.0     49993.0   \n",
       "18          3362853.0                1888349.0  ...     61125.0     55942.0   \n",
       "19          1228869.0                 685350.0  ...     17154.0     15969.0   \n",
       "\n",
       "    GRADES_12_G  GRADES_1_8_G  GRADES_9_12_G  GRADES_ALL_G  AVG_MATH_4_SCORE  \\\n",
       "0       41167.0      471564.0       196386.0      676174.0        208.327876   \n",
       "1        6714.0       79117.0        30847.0      112335.0               NaN   \n",
       "2       37410.0      437127.0       175210.0      614881.0        215.253932   \n",
       "3       27651.0      281338.0       123113.0      405259.0        210.206028   \n",
       "4      270675.0     3286034.0      1372011.0     4717112.0        208.398961   \n",
       "5       34533.0      394904.0       160299.0      562613.0        221.023429   \n",
       "6       28366.0      304284.0       126917.0      436932.0        226.798480   \n",
       "7        6129.0       67495.0        28338.0       96296.0        217.899972   \n",
       "8        3433.0       47009.0        18173.0       70000.0        192.600553   \n",
       "9      100835.0     1276685.0       511557.0     1819706.0        213.689751   \n",
       "10      63646.0      787599.0       315539.0     1106441.0        215.594906   \n",
       "11       9051.0      107242.0        43882.0      151649.0        214.056666   \n",
       "12      14593.0      146573.0        66541.0      214345.0        221.562534   \n",
       "13     106475.0     1111167.0       495562.0     1646411.0               NaN   \n",
       "14      62234.0      601890.0       278161.0      883276.0        221.037742   \n",
       "15      33057.0      299253.0       138907.0      442752.0        229.884078   \n",
       "16      26706.0      284143.0       120960.0      407494.0               NaN   \n",
       "17      38029.0      400849.0       181786.0      597199.0        215.048158   \n",
       "18      38368.0      490112.0       196891.0      698442.0        204.140211   \n",
       "19      13882.0      135320.0        59289.0      195882.0        231.638840   \n",
       "\n",
       "    AVG_MATH_8_SCORE  AVG_READING_4_SCORE  AVG_READING_8_SCORE  \n",
       "0         252.187522           207.963517                  NaN  \n",
       "1                NaN                  NaN           258.859712  \n",
       "2         265.366278           206.212716           262.169895  \n",
       "3         256.312090           208.634458           264.619665  \n",
       "4         260.892247           196.764414                  NaN  \n",
       "5         272.398433           213.480890           266.419687  \n",
       "6         273.739345           222.417599           264.713904  \n",
       "7         262.868585           206.389052           261.577921  \n",
       "8         234.924621           178.557612           265.976765  \n",
       "9         259.908848           204.882606           262.118986  \n",
       "10        259.359434           206.844175                  NaN  \n",
       "11        257.410887           200.880272                  NaN  \n",
       "12        275.090294                  NaN                  NaN  \n",
       "13               NaN                  NaN                  NaN  \n",
       "14        270.098944           219.763258                  NaN  \n",
       "15        283.360009           222.852939                  NaN  \n",
       "16               NaN                  NaN                  NaN  \n",
       "17        262.241282           211.562307                  NaN  \n",
       "18        249.983926           196.762268                  NaN  \n",
       "19        278.635384           228.380027                  NaN  \n",
       "\n",
       "[20 rows x 25 columns]"
      ]
     },
     "execution_count": 4,
     "metadata": {},
     "output_type": "execute_result"
    }
   ],
   "source": [
    "useducation.head(20)"
   ]
  },
  {
   "cell_type": "code",
   "execution_count": 5,
   "metadata": {},
   "outputs": [
    {
     "name": "stdout",
     "output_type": "stream",
     "text": [
      "0        2678885.0\n",
      "1        1049591.0\n",
      "2        3258079.0\n",
      "3        1711959.0\n",
      "4       26260025.0\n",
      "5        3185173.0\n",
      "6        3834302.0\n",
      "7         645233.0\n",
      "8         709480.0\n",
      "9       11506299.0\n",
      "10       5536901.0\n",
      "11        996809.0\n",
      "12        859329.0\n",
      "13       9748650.0\n",
      "14       5060274.0\n",
      "15       2663934.0\n",
      "16       2245348.0\n",
      "17       2642902.0\n",
      "18       3341253.0\n",
      "19       1206819.0\n",
      "20       4658498.0\n",
      "21       5517659.0\n",
      "22       9963137.0\n",
      "23       4684684.0\n",
      "24       1684706.0\n",
      "25       4043682.0\n",
      "26        828983.0\n",
      "27       1542413.0\n",
      "28       1097076.0\n",
      "29       1063391.0\n",
      "           ...    \n",
      "1462           NaN\n",
      "1463           NaN\n",
      "1464           NaN\n",
      "1465           NaN\n",
      "1466           NaN\n",
      "1467           NaN\n",
      "1468           NaN\n",
      "1469           NaN\n",
      "1470           NaN\n",
      "1471           NaN\n",
      "1472           NaN\n",
      "1473           NaN\n",
      "1474           NaN\n",
      "1475           NaN\n",
      "1476           NaN\n",
      "1477           NaN\n",
      "1478           NaN\n",
      "1479           NaN\n",
      "1480           NaN\n",
      "1481           NaN\n",
      "1482           NaN\n",
      "1483           NaN\n",
      "1484           NaN\n",
      "1485           NaN\n",
      "1486           NaN\n",
      "1487           NaN\n",
      "1488           NaN\n",
      "1489           NaN\n",
      "1490           NaN\n",
      "1491           NaN\n",
      "Name: TOTAL_REVENUE, Length: 1492, dtype: float64\n"
     ]
    }
   ],
   "source": [
    "print(useducation['TOTAL_REVENUE'])"
   ]
  },
  {
   "cell_type": "code",
   "execution_count": 6,
   "metadata": {},
   "outputs": [],
   "source": [
    "useducation['TOTAL_REVENUE'] = useducation['TOTAL_REVENUE'].interpolate(method='linear',limit_direction='forward')"
   ]
  },
  {
   "cell_type": "code",
   "execution_count": 7,
   "metadata": {},
   "outputs": [
    {
     "data": {
      "text/plain": [
       "0        2678885.0\n",
       "1        1049591.0\n",
       "2        3258079.0\n",
       "3        1711959.0\n",
       "4       26260025.0\n",
       "5        3185173.0\n",
       "6        3834302.0\n",
       "7         645233.0\n",
       "8         709480.0\n",
       "9       11506299.0\n",
       "10       5536901.0\n",
       "11        996809.0\n",
       "12        859329.0\n",
       "13       9748650.0\n",
       "14       5060274.0\n",
       "15       2663934.0\n",
       "16       2245348.0\n",
       "17       2642902.0\n",
       "18       3341253.0\n",
       "19       1206819.0\n",
       "20       4658498.0\n",
       "21       5517659.0\n",
       "22       9963137.0\n",
       "23       4684684.0\n",
       "24       1684706.0\n",
       "25       4043682.0\n",
       "26        828983.0\n",
       "27       1542413.0\n",
       "28       1097076.0\n",
       "29       1063391.0\n",
       "           ...    \n",
       "1462    23766529.0\n",
       "1463    23766529.0\n",
       "1464    23766529.0\n",
       "1465    23766529.0\n",
       "1466    23766529.0\n",
       "1467    23766529.0\n",
       "1468    23766529.0\n",
       "1469    23766529.0\n",
       "1470    23766529.0\n",
       "1471    23766529.0\n",
       "1472    23766529.0\n",
       "1473    23766529.0\n",
       "1474    23766529.0\n",
       "1475    23766529.0\n",
       "1476    23766529.0\n",
       "1477    23766529.0\n",
       "1478    23766529.0\n",
       "1479    23766529.0\n",
       "1480    23766529.0\n",
       "1481    23766529.0\n",
       "1482    23766529.0\n",
       "1483    23766529.0\n",
       "1484    23766529.0\n",
       "1485    23766529.0\n",
       "1486    23766529.0\n",
       "1487    23766529.0\n",
       "1488    23766529.0\n",
       "1489    23766529.0\n",
       "1490    23766529.0\n",
       "1491    23766529.0\n",
       "Name: TOTAL_REVENUE, Length: 1492, dtype: float64"
      ]
     },
     "execution_count": 7,
     "metadata": {},
     "output_type": "execute_result"
    }
   ],
   "source": [
    "useducation['TOTAL_REVENUE']"
   ]
  },
  {
   "cell_type": "code",
   "execution_count": 8,
   "metadata": {},
   "outputs": [
    {
     "data": {
      "text/plain": [
       "1492"
      ]
     },
     "execution_count": 8,
     "metadata": {},
     "output_type": "execute_result"
    }
   ],
   "source": [
    "useducation['TOTAL_REVENUE'].isnull().count()#???"
   ]
  },
  {
   "cell_type": "code",
   "execution_count": 9,
   "metadata": {},
   "outputs": [
    {
     "data": {
      "image/png": "[encoded data removed]",
      "text/plain": [
       "<Figure size 432x288 with 1 Axes>"
      ]
     },
     "metadata": {
      "needs_background": "light"
     },
     "output_type": "display_data"
    }
   ],
   "source": [
    "plt.boxplot(useducation[\"TOTAL_REVENUE\"])\n",
    "plt.title(\"Box plot of total_revenue (whis=15)\")\n",
    "plt.show()"
   ]
  },
  {
   "cell_type": "markdown",
   "metadata": {},
   "source": [
    "From the boxplot it's clear to see there are outliers, then using Tukey method to find how many outliers"
   ]
  },
  {
   "cell_type": "code",
   "execution_count": 10,
   "metadata": {},
   "outputs": [
    {
     "name": "stdout",
     "output_type": "stream",
     "text": [
      "when threshold is: 1.0\n",
      "N of outliers is: 50\n",
      "when threshold is: 1.5\n",
      "N of outliers is: 40\n",
      "when threshold is: 2.0\n",
      "N of outliers is: 33\n",
      "when threshold is: 2.5\n",
      "N of outliers is: 21\n",
      "when threshold is: 3.0\n",
      "N of outliers is: 12\n",
      "when threshold is: 3.5\n",
      "N of outliers is: 6\n",
      "when threshold is: 4.0\n",
      "N of outliers is: 1\n",
      "when threshold is: 4.5\n",
      "N of outliers is: 1\n"
     ]
    }
   ],
   "source": [
    "q75, q25 = np.percentile(useducation[\"TOTAL_REVENUE\"], [75 ,25])\n",
    "iqr = q75 - q25\n",
    "\n",
    "for threshold in np.arange(1,5,0.5):\n",
    "    minval = q25 - (iqr*threshold)\n",
    "    maxval = q75 + (iqr*threshold)\n",
    "    print('when threshold is: {}'.format(threshold))\n",
    "    print('N of outliers is: {}'.format(len((np.where((useducation[\"TOTAL_REVENUE\"] > maxval) | (useducation[\"TOTAL_REVENUE\"] < minval))[0]))))\n"
   ]
  },
  {
   "cell_type": "code",
   "execution_count": 11,
   "metadata": {},
   "outputs": [],
   "source": [
    "# same method for column TOTAL_EXPENDITURE"
   ]
  },
  {
   "cell_type": "code",
   "execution_count": 12,
   "metadata": {},
   "outputs": [
    {
     "data": {
      "text/plain": [
       "14.20911528150134"
      ]
     },
     "execution_count": 12,
     "metadata": {},
     "output_type": "execute_result"
    }
   ],
   "source": [
    "useducation['TOTAL_EXPENDITURE'].isnull().sum()*100/useducation['TOTAL_EXPENDITURE'].isnull().count()"
   ]
  },
  {
   "cell_type": "code",
   "execution_count": 13,
   "metadata": {},
   "outputs": [],
   "source": [
    "useducation=useducation.dropna(subset=['TOTAL_EXPENDITURE'])"
   ]
  },
  {
   "cell_type": "code",
   "execution_count": 14,
   "metadata": {},
   "outputs": [
    {
     "data": {
      "text/plain": [
       "0.0"
      ]
     },
     "execution_count": 14,
     "metadata": {},
     "output_type": "execute_result"
    }
   ],
   "source": [
    "useducation['TOTAL_EXPENDITURE'].isnull().sum()*100/useducation['TOTAL_EXPENDITURE'].isnull().count()"
   ]
  },
  {
   "cell_type": "code",
   "execution_count": 15,
   "metadata": {},
   "outputs": [
    {
     "name": "stdout",
     "output_type": "stream",
     "text": [
      "<class 'pandas.core.frame.DataFrame'>\n",
      "Int64Index: 1280 entries, 0 to 1285\n",
      "Data columns (total 25 columns):\n",
      "PRIMARY_KEY                     1280 non-null object\n",
      "STATE                           1280 non-null object\n",
      "YEAR                            1280 non-null int64\n",
      "ENROLL                          1229 non-null float64\n",
      "TOTAL_REVENUE                   1280 non-null float64\n",
      "FEDERAL_REVENUE                 1280 non-null float64\n",
      "STATE_REVENUE                   1280 non-null float64\n",
      "LOCAL_REVENUE                   1280 non-null float64\n",
      "TOTAL_EXPENDITURE               1280 non-null float64\n",
      "INSTRUCTION_EXPENDITURE         1280 non-null float64\n",
      "SUPPORT_SERVICES_EXPENDITURE    1280 non-null float64\n",
      "OTHER_EXPENDITURE               1229 non-null float64\n",
      "CAPITAL_OUTLAY_EXPENDITURE      1280 non-null float64\n",
      "GRADES_PK_G                     1218 non-null float64\n",
      "GRADES_KG_G                     1229 non-null float64\n",
      "GRADES_4_G                      1229 non-null float64\n",
      "GRADES_8_G                      1229 non-null float64\n",
      "GRADES_12_G                     1229 non-null float64\n",
      "GRADES_1_8_G                    1229 non-null float64\n",
      "GRADES_9_12_G                   1229 non-null float64\n",
      "GRADES_ALL_G                    1218 non-null float64\n",
      "AVG_MATH_4_SCORE                485 non-null float64\n",
      "AVG_MATH_8_SCORE                481 non-null float64\n",
      "AVG_READING_4_SCORE             482 non-null float64\n",
      "AVG_READING_8_SCORE             447 non-null float64\n",
      "dtypes: float64(22), int64(1), object(2)\n",
      "memory usage: 260.0+ KB\n"
     ]
    }
   ],
   "source": [
    "useducation.info()"
   ]
  },
  {
   "cell_type": "code",
   "execution_count": 16,
   "metadata": {},
   "outputs": [],
   "source": [
    "useducation['TOTAL_EXPENDITURE'] = pd.to_numeric(useducation['TOTAL_EXPENDITURE'], downcast='float')"
   ]
  },
  {
   "cell_type": "code",
   "execution_count": null,
   "metadata": {},
   "outputs": [],
   "source": []
  },
  {
   "cell_type": "code",
   "execution_count": 17,
   "metadata": {
    "scrolled": true
   },
   "outputs": [
    {
     "data": {
      "text/plain": [
       "{'whiskers': [<matplotlib.lines.Line2D at 0x2751f51f198>,\n",
       "  <matplotlib.lines.Line2D at 0x2751f51f0b8>],\n",
       " 'caps': [<matplotlib.lines.Line2D at 0x2751f4eef98>,\n",
       "  <matplotlib.lines.Line2D at 0x2751f4ee240>],\n",
       " 'boxes': [<matplotlib.lines.Line2D at 0x2751f51f860>],\n",
       " 'medians': [<matplotlib.lines.Line2D at 0x2751f5d1160>],\n",
       " 'fliers': [<matplotlib.lines.Line2D at 0x2751f5d1400>],\n",
       " 'means': []}"
      ]
     },
     "execution_count": 17,
     "metadata": {},
     "output_type": "execute_result"
    },
    {
     "data": {
      "image/png": "[encoded data removed]",
      "text/plain": [
       "<Figure size 432x288 with 1 Axes>"
      ]
     },
     "metadata": {
      "needs_background": "light"
     },
     "output_type": "display_data"
    }
   ],
   "source": [
    "plt.boxplot(useducation[\"TOTAL_EXPENDITURE\"],whis=5)# question?? why I need to set whis=5?? sample solution set to 5,default 1.5\n",
    "#plt.title(\"Box plot of TOTAL_EXPENDITURE (whis=1.5)\")\n",
    "#plt.show()"
   ]
  },
  {
   "cell_type": "code",
   "execution_count": 18,
   "metadata": {},
   "outputs": [],
   "source": [
    "# You can see from the boxplot above, there are a lot of outliers showing. So I'm going to do counting on number of outliers here"
   ]
  },
  {
   "cell_type": "code",
   "execution_count": 19,
   "metadata": {},
   "outputs": [
    {
     "name": "stdout",
     "output_type": "stream",
     "text": [
      "when threshold is: 1.0\n",
      "N of outliers is: 152\n",
      "when threshold is: 1.5\n",
      "N of outliers is: 111\n",
      "when threshold is: 2.0\n",
      "N of outliers is: 80\n",
      "when threshold is: 2.5\n",
      "N of outliers is: 55\n",
      "when threshold is: 3.0\n",
      "N of outliers is: 49\n",
      "when threshold is: 3.5\n",
      "N of outliers is: 43\n",
      "when threshold is: 4.0\n",
      "N of outliers is: 39\n",
      "when threshold is: 4.5\n",
      "N of outliers is: 35\n"
     ]
    }
   ],
   "source": [
    "q75, q25 = np.percentile(useducation[\"TOTAL_EXPENDITURE\"], [75 ,25])\n",
    "iqr = q75 - q25\n",
    "\n",
    "for threshold in np.arange(1,5,0.5):\n",
    "    minval = q25 - (iqr*threshold)\n",
    "    maxval = q75 + (iqr*threshold)\n",
    "    print('when threshold is: {}'.format(threshold))\n",
    "    print('N of outliers is: {}'.format(len((np.where((useducation[\"TOTAL_EXPENDITURE\"] > maxval) | (useducation[\"TOTAL_EXPENDITURE\"] < minval))[0]))))\n",
    "\n",
    "    \n",
    "# what's the [0] did at the end of the code?"
   ]
  },
  {
   "cell_type": "code",
   "execution_count": 20,
   "metadata": {},
   "outputs": [],
   "source": [
    "# 2. If you detect outliers in the *TOTAL_REVENUE* and *TOTAL_EXPENDITURE* variables, apply the techniques you learned \n",
    "# in this checkpoint to eliminate them and validate that there's no outlier values after you handled them."
   ]
  },
  {
   "cell_type": "code",
   "execution_count": 21,
   "metadata": {},
   "outputs": [
    {
     "data": {
      "text/plain": [
       "masked_array(data=[ 2653798.,   972488.,  3401580., ..., 14207389.,\n",
       "                    1963630., 23352516.],\n",
       "             mask=False,\n",
       "       fill_value=1e+20,\n",
       "            dtype=float32)"
      ]
     },
     "execution_count": 21,
     "metadata": {},
     "output_type": "execute_result"
    }
   ],
   "source": [
    "from scipy.stats.mstats import winsorize\n",
    "\n",
    "winsorized_expenditure = winsorize(useducation[\"TOTAL_EXPENDITURE\"], (0, 0.05))\n",
    "\n",
    "winsorized_expenditure"
   ]
  },
  {
   "cell_type": "code",
   "execution_count": 22,
   "metadata": {},
   "outputs": [
    {
     "data": {
      "text/plain": [
       "masked_array(data=[ 2653798.,   972488.,  3401580., ..., 14207389.,\n",
       "                    1963630., 21896220.],\n",
       "             mask=False,\n",
       "       fill_value=1e+20,\n",
       "            dtype=float32)"
      ]
     },
     "execution_count": 22,
     "metadata": {},
     "output_type": "execute_result"
    }
   ],
   "source": [
    "from scipy.stats.mstats import winsorize\n",
    "\n",
    "winsorized_expenditure = winsorize(useducation[\"TOTAL_EXPENDITURE\"], (0, 0.10))\n",
    "\n",
    "winsorized_expenditure"
   ]
  },
  {
   "cell_type": "code",
   "execution_count": 23,
   "metadata": {
    "scrolled": true
   },
   "outputs": [
    {
     "data": {
      "image/png": "[encoded data removed]",
      "text/plain": [
       "<Figure size 432x288 with 1 Axes>"
      ]
     },
     "metadata": {
      "needs_background": "light"
     },
     "output_type": "display_data"
    }
   ],
   "source": [
    "plt.boxplot(winsorized_expenditure)\n",
    "plt.title(\"Box plot of total_expenditure winsorized (whis=1.5)\")\n",
    "plt.show()"
   ]
  },
  {
   "cell_type": "code",
   "execution_count": 24,
   "metadata": {},
   "outputs": [
    {
     "data": {
      "text/plain": [
       "masked_array(data=[ 2678885.,  1049591.,  3258079., ..., 13448045.,\n",
       "                    1788749., 21623923.],\n",
       "             mask=False,\n",
       "       fill_value=1e+20)"
      ]
     },
     "execution_count": 24,
     "metadata": {},
     "output_type": "execute_result"
    }
   ],
   "source": [
    "winsorized_revenue = winsorize(useducation[\"TOTAL_REVENUE\"], (0, 0.10))\n",
    "\n",
    "winsorized_revenue"
   ]
  },
  {
   "cell_type": "code",
   "execution_count": 25,
   "metadata": {},
   "outputs": [
    {
     "data": {
      "image/png": "[encoded data removed]",
      "text/plain": [
       "<Figure size 432x288 with 1 Axes>"
      ]
     },
     "metadata": {
      "needs_background": "light"
     },
     "output_type": "display_data"
    }
   ],
   "source": [
    "plt.boxplot(winsorized_revenue)\n",
    "plt.title(\"Box plot of total_revenue winsorized (whis=1.5)\")\n",
    "plt.show()"
   ]
  },
  {
   "cell_type": "code",
   "execution_count": 26,
   "metadata": {},
   "outputs": [],
   "source": [
    "#3. Create another variable by subtracting the original TOTAL_EXPENDITURE from TOTAL_REVENUE (before you eliminated the \n",
    "# outliers). You can think of it as a kind of budget deficit in education. Do you find any outlier values in this new \n",
    "# variable? If so, eliminate them using the technique you think most suitable."
   ]
  },
  {
   "cell_type": "code",
   "execution_count": 27,
   "metadata": {},
   "outputs": [
    {
     "data": {
      "text/plain": [
       "0         25087.0\n",
       "1         77103.0\n",
       "2       -143501.0\n",
       "3        -31063.0\n",
       "4       -878807.0\n",
       "5        -79653.0\n",
       "6        112964.0\n",
       "7          6449.0\n",
       "8        -33413.0\n",
       "9        200657.0\n",
       "10          959.0\n",
       "11       -43312.0\n",
       "12       -26832.0\n",
       "13      -101910.0\n",
       "14      -122480.0\n",
       "15      -131840.0\n",
       "16        10433.0\n",
       "17       124820.0\n",
       "18       -21600.0\n",
       "19       -22050.0\n",
       "20       -39876.0\n",
       "21       272099.0\n",
       "22      -207551.0\n",
       "23      -296441.0\n",
       "24        -7284.0\n",
       "25      -153918.0\n",
       "26        47974.0\n",
       "27         8367.0\n",
       "28      -154575.0\n",
       "29        -3256.0\n",
       "          ...    \n",
       "1256     593242.0\n",
       "1257       1625.0\n",
       "1258       7156.0\n",
       "1259     180482.0\n",
       "1260     245065.0\n",
       "1261     297425.0\n",
       "1262     165510.0\n",
       "1263    -128286.0\n",
       "1264    1196874.0\n",
       "1265     -52935.0\n",
       "1266     -65273.0\n",
       "1267     -40353.0\n",
       "1268     148476.0\n",
       "1269     139288.0\n",
       "1270     417130.0\n",
       "1271     446824.0\n",
       "1272    1414617.0\n",
       "1273    -662811.0\n",
       "1274     124043.0\n",
       "1275     173349.0\n",
       "1276     -78880.0\n",
       "1277    -241611.0\n",
       "1278     108637.0\n",
       "1279      25695.0\n",
       "1280     347190.0\n",
       "1281      35672.0\n",
       "1282   -1369363.0\n",
       "1283    -759344.0\n",
       "1284    -174881.0\n",
       "1285     414013.0\n",
       "Name: deficit_revised, Length: 1280, dtype: float64"
      ]
     },
     "execution_count": 27,
     "metadata": {},
     "output_type": "execute_result"
    }
   ],
   "source": [
    "useducation['deficit_revised'] = useducation['TOTAL_REVENUE'] - useducation['TOTAL_EXPENDITURE']\n",
    "useducation['deficit_revised']"
   ]
  },
  {
   "cell_type": "code",
   "execution_count": 28,
   "metadata": {},
   "outputs": [
    {
     "data": {
      "image/png": "[encoded data removed]",
      "text/plain": [
       "<Figure size 432x288 with 1 Axes>"
      ]
     },
     "metadata": {
      "needs_background": "light"
     },
     "output_type": "display_data"
    }
   ],
   "source": [
    "# to check if there is outliers in the new column\n",
    "plt.boxplot(useducation['deficit_revised'])\n",
    "plt.title(\"Box plot of deficit_revised (whis=1.5)\")\n",
    "plt.show()\n",
    "\n",
    "\n",
    "\n",
    "# this is sample solution, what is whis=5 mean, different from default?\n",
    "#plt.figure(figsize = (15,5))\n",
    "\n",
    "#plt.subplot(1,2,1)\n",
    "#plt.boxplot(education_df[\"TOTAL_REVENUE\"], whis = 5)\n",
    "#plt.title(\"Box plot of total revenue\")\n",
    "\n",
    "#plt.subplot(1,2,2)\n",
    "#plt.boxplot(education_df[\"TOTAL_EXPENDITURE\"], whis = 5)\n",
    "#plt.title(\"Box plot of total expenditure\")\n",
    "#plt.show()\n"
   ]
  },
  {
   "cell_type": "code",
   "execution_count": 29,
   "metadata": {},
   "outputs": [
    {
     "data": {
      "text/plain": [
       "0        25087.0\n",
       "1        77103.0\n",
       "2      -143501.0\n",
       "3       -31063.0\n",
       "4      -487915.0\n",
       "5       -79653.0\n",
       "6       112964.0\n",
       "7         6449.0\n",
       "8       -33413.0\n",
       "9       200657.0\n",
       "10         959.0\n",
       "11      -43312.0\n",
       "12      -26832.0\n",
       "13     -101910.0\n",
       "14     -122480.0\n",
       "15     -131840.0\n",
       "16       10433.0\n",
       "17      124820.0\n",
       "18      -21600.0\n",
       "19      -22050.0\n",
       "20      -39876.0\n",
       "21      249996.0\n",
       "22     -207551.0\n",
       "23     -296441.0\n",
       "24       -7284.0\n",
       "25     -153918.0\n",
       "26       47974.0\n",
       "27        8367.0\n",
       "28     -154575.0\n",
       "29       -3256.0\n",
       "          ...   \n",
       "1256    249996.0\n",
       "1257      1625.0\n",
       "1258      7156.0\n",
       "1259    180482.0\n",
       "1260    245065.0\n",
       "1261    249996.0\n",
       "1262    165510.0\n",
       "1263   -128286.0\n",
       "1264    249996.0\n",
       "1265    -52935.0\n",
       "1266    -65273.0\n",
       "1267    -40353.0\n",
       "1268    148476.0\n",
       "1269    139288.0\n",
       "1270    249996.0\n",
       "1271    249996.0\n",
       "1272    249996.0\n",
       "1273   -487915.0\n",
       "1274    124043.0\n",
       "1275    173349.0\n",
       "1276    -78880.0\n",
       "1277   -241611.0\n",
       "1278    108637.0\n",
       "1279     25695.0\n",
       "1280    249996.0\n",
       "1281     35672.0\n",
       "1282   -487915.0\n",
       "1283   -487915.0\n",
       "1284   -174881.0\n",
       "1285    249996.0\n",
       "Name: winsorized_deficitrevised, Length: 1280, dtype: float64"
      ]
     },
     "execution_count": 29,
     "metadata": {},
     "output_type": "execute_result"
    }
   ],
   "source": [
    "# to remove the outliers of deficit_revised\n",
    "useducation['winsorized_deficitrevised'] = winsorize(useducation['deficit_revised'], (0.10, 0.10))\n",
    "\n",
    "useducation['winsorized_deficitrevised']\n"
   ]
  },
  {
   "cell_type": "code",
   "execution_count": 30,
   "metadata": {},
   "outputs": [
    {
     "data": {
      "image/png": "[encoded data removed]",
      "text/plain": [
       "<Figure size 432x288 with 1 Axes>"
      ]
     },
     "metadata": {
      "needs_background": "light"
     },
     "output_type": "display_data"
    }
   ],
   "source": [
    "plt.boxplot(useducation['winsorized_deficitrevised'])\n",
    "plt.title(\"Box plot of w_deficit_revised (whis=1.5)\")\n",
    "plt.show()"
   ]
  },
  {
   "cell_type": "code",
   "execution_count": 31,
   "metadata": {},
   "outputs": [],
   "source": [
    "# using untouched version of data to calculate deficit"
   ]
  },
  {
   "cell_type": "code",
   "execution_count": 32,
   "metadata": {},
   "outputs": [],
   "source": [
    "postgres_user = 'dsbc_student'\n",
    "postgres_pw = '7*.8G9QH21'\n",
    "postgres_host = '142.93.121.174'\n",
    "postgres_port = '5432'\n",
    "postgres_db = 'useducation'\n",
    "engine = create_engine('postgresql://{}:{}@{}:{}/{}'.format(\n",
    "    postgres_user, postgres_pw, postgres_host, postgres_port, postgres_db))\n",
    "\n",
    "useducation = pd.read_sql_query('select * from useducation',con=engine)\n",
    "\n",
    "engine.dispose()"
   ]
  },
  {
   "cell_type": "code",
   "execution_count": 33,
   "metadata": {},
   "outputs": [
    {
     "data": {
      "text/plain": [
       "0        25087.0\n",
       "1        77103.0\n",
       "2      -143501.0\n",
       "3       -31063.0\n",
       "4      -878807.0\n",
       "5       -79653.0\n",
       "6       112964.0\n",
       "7         6449.0\n",
       "8       -33413.0\n",
       "9       200657.0\n",
       "10         959.0\n",
       "11      -43312.0\n",
       "12      -26832.0\n",
       "13     -101910.0\n",
       "14     -122480.0\n",
       "15     -131840.0\n",
       "16       10433.0\n",
       "17      124820.0\n",
       "18      -21600.0\n",
       "19      -22050.0\n",
       "20      -39876.0\n",
       "21      272099.0\n",
       "22     -207551.0\n",
       "23     -296441.0\n",
       "24       -7284.0\n",
       "25     -153918.0\n",
       "26       47974.0\n",
       "27        8367.0\n",
       "28     -154575.0\n",
       "29       -3256.0\n",
       "          ...   \n",
       "1462         NaN\n",
       "1463         NaN\n",
       "1464         NaN\n",
       "1465         NaN\n",
       "1466         NaN\n",
       "1467         NaN\n",
       "1468         NaN\n",
       "1469         NaN\n",
       "1470         NaN\n",
       "1471         NaN\n",
       "1472         NaN\n",
       "1473         NaN\n",
       "1474         NaN\n",
       "1475         NaN\n",
       "1476         NaN\n",
       "1477         NaN\n",
       "1478         NaN\n",
       "1479         NaN\n",
       "1480         NaN\n",
       "1481         NaN\n",
       "1482         NaN\n",
       "1483         NaN\n",
       "1484         NaN\n",
       "1485         NaN\n",
       "1486         NaN\n",
       "1487         NaN\n",
       "1488         NaN\n",
       "1489         NaN\n",
       "1490         NaN\n",
       "1491         NaN\n",
       "Name: deficit_original, Length: 1492, dtype: float64"
      ]
     },
     "execution_count": 33,
     "metadata": {},
     "output_type": "execute_result"
    }
   ],
   "source": [
    "useducation['deficit_original']=useducation['TOTAL_REVENUE'] - useducation['TOTAL_EXPENDITURE']\n",
    "useducation['deficit_original']"
   ]
  },
  {
   "cell_type": "code",
   "execution_count": 34,
   "metadata": {},
   "outputs": [],
   "source": [
    "# get rid of all the NaN value\n",
    "useducation['deficit_original']=useducation['deficit_original'].dropna()"
   ]
  },
  {
   "cell_type": "code",
   "execution_count": 35,
   "metadata": {},
   "outputs": [
    {
     "data": {
      "image/png": "[encoded data removed]",
      "text/plain": [
       "<Figure size 432x288 with 1 Axes>"
      ]
     },
     "metadata": {
      "needs_background": "light"
     },
     "output_type": "display_data"
    }
   ],
   "source": [
    "plt.boxplot(useducation['deficit_original'])\n",
    "plt.title(\"Box plot of deficit_original (whis=1.5)\")\n",
    "plt.show()"
   ]
  },
  {
   "cell_type": "code",
   "execution_count": 36,
   "metadata": {},
   "outputs": [
    {
     "data": {
      "text/plain": [
       "0        25087.0\n",
       "1        77103.0\n",
       "2      -143501.0\n",
       "3       -31063.0\n",
       "4      -395270.0\n",
       "5       -79653.0\n",
       "6       112964.0\n",
       "7         6449.0\n",
       "8       -33413.0\n",
       "9       200657.0\n",
       "10         959.0\n",
       "11      -43312.0\n",
       "12      -26832.0\n",
       "13     -101910.0\n",
       "14     -122480.0\n",
       "15     -131840.0\n",
       "16       10433.0\n",
       "17      124820.0\n",
       "18      -21600.0\n",
       "19      -22050.0\n",
       "20      -39876.0\n",
       "21      272099.0\n",
       "22     -207551.0\n",
       "23     -296441.0\n",
       "24       -7284.0\n",
       "25     -153918.0\n",
       "26       47974.0\n",
       "27        8367.0\n",
       "28     -154575.0\n",
       "29       -3256.0\n",
       "          ...   \n",
       "1462         NaN\n",
       "1463         NaN\n",
       "1464         NaN\n",
       "1465         NaN\n",
       "1466         NaN\n",
       "1467         NaN\n",
       "1468         NaN\n",
       "1469         NaN\n",
       "1470         NaN\n",
       "1471         NaN\n",
       "1472         NaN\n",
       "1473         NaN\n",
       "1474         NaN\n",
       "1475         NaN\n",
       "1476         NaN\n",
       "1477         NaN\n",
       "1478         NaN\n",
       "1479         NaN\n",
       "1480         NaN\n",
       "1481         NaN\n",
       "1482         NaN\n",
       "1483         NaN\n",
       "1484         NaN\n",
       "1485         NaN\n",
       "1486         NaN\n",
       "1487         NaN\n",
       "1488         NaN\n",
       "1489         NaN\n",
       "1490         NaN\n",
       "1491         NaN\n",
       "Name: winsorized_deficitoriginal, Length: 1492, dtype: float64"
      ]
     },
     "execution_count": 36,
     "metadata": {},
     "output_type": "execute_result"
    }
   ],
   "source": [
    "# remove the outliers of deficit_original\n",
    "useducation['winsorized_deficitoriginal']= winsorize(useducation['deficit_original'], (0.10, 0.10))\n",
    "\n",
    "useducation['winsorized_deficitoriginal']"
   ]
  },
  {
   "cell_type": "code",
   "execution_count": 37,
   "metadata": {},
   "outputs": [
    {
     "data": {
      "image/png": "[encoded data removed]",
      "text/plain": [
       "<Figure size 432x288 with 1 Axes>"
      ]
     },
     "metadata": {
      "needs_background": "light"
     },
     "output_type": "display_data"
    }
   ],
   "source": [
    "plt.boxplot(useducation['winsorized_deficitoriginal'])\n",
    "plt.title(\"Box plot of w_deficit_original (whis=1.5)\")\n",
    "plt.show()"
   ]
  },
  {
   "cell_type": "code",
   "execution_count": 38,
   "metadata": {},
   "outputs": [],
   "source": [
    "#5. Compare some basic descriptive statistics of the budget variables you end up with in the 3rd and the 4th questions. \n",
    "# Do you see any differences?"
   ]
  },
  {
   "cell_type": "code",
   "execution_count": 39,
   "metadata": {},
   "outputs": [
    {
     "data": {
      "text/plain": [
       "pandas.core.series.Series"
      ]
     },
     "execution_count": 39,
     "metadata": {},
     "output_type": "execute_result"
    }
   ],
   "source": [
    "#winsorized_deficitrevised.describe()\n",
    "type(useducation['winsorized_deficitoriginal'])"
   ]
  },
  {
   "cell_type": "code",
   "execution_count": 44,
   "metadata": {},
   "outputs": [
    {
     "ename": "KeyError",
     "evalue": "'winsorized_deficitrevised'",
     "output_type": "error",
     "traceback": [
      "\u001b[1;31m---------------------------------------------------------------------------\u001b[0m",
      "\u001b[1;31mKeyError\u001b[0m                                  Traceback (most recent call last)",
      "\u001b[1;32m~\\Anaconda3\\lib\\site-packages\\pandas\\core\\indexes\\base.py\u001b[0m in \u001b[0;36mget_loc\u001b[1;34m(self, key, method, tolerance)\u001b[0m\n\u001b[0;32m   2656\u001b[0m             \u001b[1;32mtry\u001b[0m\u001b[1;33m:\u001b[0m\u001b[1;33m\u001b[0m\u001b[1;33m\u001b[0m\u001b[0m\n\u001b[1;32m-> 2657\u001b[1;33m                 \u001b[1;32mreturn\u001b[0m \u001b[0mself\u001b[0m\u001b[1;33m.\u001b[0m\u001b[0m_engine\u001b[0m\u001b[1;33m.\u001b[0m\u001b[0mget_loc\u001b[0m\u001b[1;33m(\u001b[0m\u001b[0mkey\u001b[0m\u001b[1;33m)\u001b[0m\u001b[1;33m\u001b[0m\u001b[1;33m\u001b[0m\u001b[0m\n\u001b[0m\u001b[0;32m   2658\u001b[0m             \u001b[1;32mexcept\u001b[0m \u001b[0mKeyError\u001b[0m\u001b[1;33m:\u001b[0m\u001b[1;33m\u001b[0m\u001b[1;33m\u001b[0m\u001b[0m\n",
      "\u001b[1;32mpandas/_libs/index.pyx\u001b[0m in \u001b[0;36mpandas._libs.index.IndexEngine.get_loc\u001b[1;34m()\u001b[0m\n",
      "\u001b[1;32mpandas/_libs/index.pyx\u001b[0m in \u001b[0;36mpandas._libs.index.IndexEngine.get_loc\u001b[1;34m()\u001b[0m\n",
      "\u001b[1;32mpandas/_libs/hashtable_class_helper.pxi\u001b[0m in \u001b[0;36mpandas._libs.hashtable.PyObjectHashTable.get_item\u001b[1;34m()\u001b[0m\n",
      "\u001b[1;32mpandas/_libs/hashtable_class_helper.pxi\u001b[0m in \u001b[0;36mpandas._libs.hashtable.PyObjectHashTable.get_item\u001b[1;34m()\u001b[0m\n",
      "\u001b[1;31mKeyError\u001b[0m: 'winsorized_deficitrevised'",
      "\nDuring handling of the above exception, another exception occurred:\n",
      "\u001b[1;31mKeyError\u001b[0m                                  Traceback (most recent call last)",
      "\u001b[1;32m<ipython-input-44-cd82fe6f7c53>\u001b[0m in \u001b[0;36m<module>\u001b[1;34m\u001b[0m\n\u001b[0;32m      1\u001b[0m \u001b[1;31m#useducation.DataFrame({\"original_budget\": useducation['deficit_original'], \"winsorized_deficitoriginal\": useducation['winsorized_deficitoriginal'],\"winsorized_deficitrevised\": useducation['winsorized_deficitrevised']}).describe()\u001b[0m\u001b[1;33m\u001b[0m\u001b[1;33m\u001b[0m\u001b[1;33m\u001b[0m\u001b[0m\n\u001b[1;32m----> 2\u001b[1;33m \u001b[0mcompare_list\u001b[0m\u001b[1;33m=\u001b[0m \u001b[1;33m(\u001b[0m\u001b[1;33m{\u001b[0m\u001b[0museducation\u001b[0m\u001b[1;33m[\u001b[0m\u001b[1;34m'deficit_original'\u001b[0m\u001b[1;33m]\u001b[0m\u001b[1;33m,\u001b[0m \u001b[0museducation\u001b[0m\u001b[1;33m[\u001b[0m\u001b[1;34m'winsorized_deficitoriginal'\u001b[0m\u001b[1;33m]\u001b[0m\u001b[1;33m,\u001b[0m \u001b[0museducation\u001b[0m\u001b[1;33m[\u001b[0m\u001b[1;34m'winsorized_deficitrevised'\u001b[0m\u001b[1;33m]\u001b[0m\u001b[1;33m}\u001b[0m\u001b[1;33m)\u001b[0m\u001b[1;33m\u001b[0m\u001b[1;33m\u001b[0m\u001b[0m\n\u001b[0m\u001b[0;32m      3\u001b[0m \u001b[0mcompare_list\u001b[0m\u001b[1;33m.\u001b[0m\u001b[0mdescribe\u001b[0m\u001b[1;33m(\u001b[0m\u001b[1;33m)\u001b[0m\u001b[1;33m\u001b[0m\u001b[1;33m\u001b[0m\u001b[0m\n\u001b[0;32m      4\u001b[0m \u001b[0museducation\u001b[0m\u001b[1;33m[\u001b[0m\u001b[1;34m'deficit_original'\u001b[0m\u001b[1;33m]\u001b[0m\u001b[1;33m.\u001b[0m\u001b[0mdescribe\u001b[0m\u001b[1;33m(\u001b[0m\u001b[1;33m)\u001b[0m\u001b[1;33m\u001b[0m\u001b[1;33m\u001b[0m\u001b[0m\n",
      "\u001b[1;32m~\\Anaconda3\\lib\\site-packages\\pandas\\core\\frame.py\u001b[0m in \u001b[0;36m__getitem__\u001b[1;34m(self, key)\u001b[0m\n\u001b[0;32m   2925\u001b[0m             \u001b[1;32mif\u001b[0m \u001b[0mself\u001b[0m\u001b[1;33m.\u001b[0m\u001b[0mcolumns\u001b[0m\u001b[1;33m.\u001b[0m\u001b[0mnlevels\u001b[0m \u001b[1;33m>\u001b[0m \u001b[1;36m1\u001b[0m\u001b[1;33m:\u001b[0m\u001b[1;33m\u001b[0m\u001b[1;33m\u001b[0m\u001b[0m\n\u001b[0;32m   2926\u001b[0m                 \u001b[1;32mreturn\u001b[0m \u001b[0mself\u001b[0m\u001b[1;33m.\u001b[0m\u001b[0m_getitem_multilevel\u001b[0m\u001b[1;33m(\u001b[0m\u001b[0mkey\u001b[0m\u001b[1;33m)\u001b[0m\u001b[1;33m\u001b[0m\u001b[1;33m\u001b[0m\u001b[0m\n\u001b[1;32m-> 2927\u001b[1;33m             \u001b[0mindexer\u001b[0m \u001b[1;33m=\u001b[0m \u001b[0mself\u001b[0m\u001b[1;33m.\u001b[0m\u001b[0mcolumns\u001b[0m\u001b[1;33m.\u001b[0m\u001b[0mget_loc\u001b[0m\u001b[1;33m(\u001b[0m\u001b[0mkey\u001b[0m\u001b[1;33m)\u001b[0m\u001b[1;33m\u001b[0m\u001b[1;33m\u001b[0m\u001b[0m\n\u001b[0m\u001b[0;32m   2928\u001b[0m             \u001b[1;32mif\u001b[0m \u001b[0mis_integer\u001b[0m\u001b[1;33m(\u001b[0m\u001b[0mindexer\u001b[0m\u001b[1;33m)\u001b[0m\u001b[1;33m:\u001b[0m\u001b[1;33m\u001b[0m\u001b[1;33m\u001b[0m\u001b[0m\n\u001b[0;32m   2929\u001b[0m                 \u001b[0mindexer\u001b[0m \u001b[1;33m=\u001b[0m \u001b[1;33m[\u001b[0m\u001b[0mindexer\u001b[0m\u001b[1;33m]\u001b[0m\u001b[1;33m\u001b[0m\u001b[1;33m\u001b[0m\u001b[0m\n",
      "\u001b[1;32m~\\Anaconda3\\lib\\site-packages\\pandas\\core\\indexes\\base.py\u001b[0m in \u001b[0;36mget_loc\u001b[1;34m(self, key, method, tolerance)\u001b[0m\n\u001b[0;32m   2657\u001b[0m                 \u001b[1;32mreturn\u001b[0m \u001b[0mself\u001b[0m\u001b[1;33m.\u001b[0m\u001b[0m_engine\u001b[0m\u001b[1;33m.\u001b[0m\u001b[0mget_loc\u001b[0m\u001b[1;33m(\u001b[0m\u001b[0mkey\u001b[0m\u001b[1;33m)\u001b[0m\u001b[1;33m\u001b[0m\u001b[1;33m\u001b[0m\u001b[0m\n\u001b[0;32m   2658\u001b[0m             \u001b[1;32mexcept\u001b[0m \u001b[0mKeyError\u001b[0m\u001b[1;33m:\u001b[0m\u001b[1;33m\u001b[0m\u001b[1;33m\u001b[0m\u001b[0m\n\u001b[1;32m-> 2659\u001b[1;33m                 \u001b[1;32mreturn\u001b[0m \u001b[0mself\u001b[0m\u001b[1;33m.\u001b[0m\u001b[0m_engine\u001b[0m\u001b[1;33m.\u001b[0m\u001b[0mget_loc\u001b[0m\u001b[1;33m(\u001b[0m\u001b[0mself\u001b[0m\u001b[1;33m.\u001b[0m\u001b[0m_maybe_cast_indexer\u001b[0m\u001b[1;33m(\u001b[0m\u001b[0mkey\u001b[0m\u001b[1;33m)\u001b[0m\u001b[1;33m)\u001b[0m\u001b[1;33m\u001b[0m\u001b[1;33m\u001b[0m\u001b[0m\n\u001b[0m\u001b[0;32m   2660\u001b[0m         \u001b[0mindexer\u001b[0m \u001b[1;33m=\u001b[0m \u001b[0mself\u001b[0m\u001b[1;33m.\u001b[0m\u001b[0mget_indexer\u001b[0m\u001b[1;33m(\u001b[0m\u001b[1;33m[\u001b[0m\u001b[0mkey\u001b[0m\u001b[1;33m]\u001b[0m\u001b[1;33m,\u001b[0m \u001b[0mmethod\u001b[0m\u001b[1;33m=\u001b[0m\u001b[0mmethod\u001b[0m\u001b[1;33m,\u001b[0m \u001b[0mtolerance\u001b[0m\u001b[1;33m=\u001b[0m\u001b[0mtolerance\u001b[0m\u001b[1;33m)\u001b[0m\u001b[1;33m\u001b[0m\u001b[1;33m\u001b[0m\u001b[0m\n\u001b[0;32m   2661\u001b[0m         \u001b[1;32mif\u001b[0m \u001b[0mindexer\u001b[0m\u001b[1;33m.\u001b[0m\u001b[0mndim\u001b[0m \u001b[1;33m>\u001b[0m \u001b[1;36m1\u001b[0m \u001b[1;32mor\u001b[0m \u001b[0mindexer\u001b[0m\u001b[1;33m.\u001b[0m\u001b[0msize\u001b[0m \u001b[1;33m>\u001b[0m \u001b[1;36m1\u001b[0m\u001b[1;33m:\u001b[0m\u001b[1;33m\u001b[0m\u001b[1;33m\u001b[0m\u001b[0m\n",
      "\u001b[1;32mpandas/_libs/index.pyx\u001b[0m in \u001b[0;36mpandas._libs.index.IndexEngine.get_loc\u001b[1;34m()\u001b[0m\n",
      "\u001b[1;32mpandas/_libs/index.pyx\u001b[0m in \u001b[0;36mpandas._libs.index.IndexEngine.get_loc\u001b[1;34m()\u001b[0m\n",
      "\u001b[1;32mpandas/_libs/hashtable_class_helper.pxi\u001b[0m in \u001b[0;36mpandas._libs.hashtable.PyObjectHashTable.get_item\u001b[1;34m()\u001b[0m\n",
      "\u001b[1;32mpandas/_libs/hashtable_class_helper.pxi\u001b[0m in \u001b[0;36mpandas._libs.hashtable.PyObjectHashTable.get_item\u001b[1;34m()\u001b[0m\n",
      "\u001b[1;31mKeyError\u001b[0m: 'winsorized_deficitrevised'"
     ]
    }
   ],
   "source": [
    "#useducation.DataFrame({\"original_budget\": useducation['deficit_original'], \"winsorized_deficitoriginal\": useducation['winsorized_deficitoriginal'],\"winsorized_deficitrevised\": useducation['winsorized_deficitrevised']}).describe()\n",
    "compare_list= ({useducation['deficit_original'], useducation['winsorized_deficitoriginal'], useducation['winsorized_deficitrevised']})\n",
    "compare_list.describe()\n",
    "useducation['deficit_original'].describe()"
   ]
  }
 ],
 "metadata": {
  "kernelspec": {
   "display_name": "Python 3",
   "language": "python",
   "name": "python3"
  },
  "language_info": {
   "codemirror_mode": {
    "name": "ipython",
    "version": 3
   },
   "file_extension": ".py",
   "mimetype": "text/x-python",
   "name": "python",
   "nbconvert_exporter": "python",
   "pygments_lexer": "ipython3",
   "version": "3.7.3"
  }
 },
 "nbformat": 4,
 "nbformat_minor": 2
}
